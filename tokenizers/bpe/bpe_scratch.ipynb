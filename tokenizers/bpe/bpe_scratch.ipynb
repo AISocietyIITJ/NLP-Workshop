{
 "cells": [
  {
   "cell_type": "code",
   "execution_count": 15,
   "id": "b5ed852d",
   "metadata": {},
   "outputs": [],
   "source": [
    "# Import required libraries\n",
    "import pandas as pd\n",
    "import numpy as np"
   ]
  },
  {
   "cell_type": "code",
   "execution_count": 16,
   "id": "f7c7e493",
   "metadata": {},
   "outputs": [
    {
     "data": {
      "text/html": [
       "<div>\n",
       "<style scoped>\n",
       "    .dataframe tbody tr th:only-of-type {\n",
       "        vertical-align: middle;\n",
       "    }\n",
       "\n",
       "    .dataframe tbody tr th {\n",
       "        vertical-align: top;\n",
       "    }\n",
       "\n",
       "    .dataframe thead th {\n",
       "        text-align: right;\n",
       "    }\n",
       "</style>\n",
       "<table border=\"1\" class=\"dataframe\">\n",
       "  <thead>\n",
       "    <tr style=\"text-align: right;\">\n",
       "      <th></th>\n",
       "      <th>text</th>\n",
       "      <th>sentiment</th>\n",
       "    </tr>\n",
       "  </thead>\n",
       "  <tbody>\n",
       "    <tr>\n",
       "      <th>0</th>\n",
       "      <td>So there is no way for me to plug it in here i...</td>\n",
       "      <td>0</td>\n",
       "    </tr>\n",
       "    <tr>\n",
       "      <th>1</th>\n",
       "      <td>Good case, Excellent value.</td>\n",
       "      <td>1</td>\n",
       "    </tr>\n",
       "    <tr>\n",
       "      <th>2</th>\n",
       "      <td>Great for the jawbone.</td>\n",
       "      <td>1</td>\n",
       "    </tr>\n",
       "    <tr>\n",
       "      <th>3</th>\n",
       "      <td>Tied to charger for conversations lasting more...</td>\n",
       "      <td>0</td>\n",
       "    </tr>\n",
       "    <tr>\n",
       "      <th>4</th>\n",
       "      <td>The mic is great.</td>\n",
       "      <td>1</td>\n",
       "    </tr>\n",
       "  </tbody>\n",
       "</table>\n",
       "</div>"
      ],
      "text/plain": [
       "                                                text sentiment\n",
       "0  So there is no way for me to plug it in here i...         0\n",
       "1                        Good case, Excellent value.         1\n",
       "2                             Great for the jawbone.         1\n",
       "3  Tied to charger for conversations lasting more...         0\n",
       "4                                  The mic is great.         1"
      ]
     },
     "execution_count": 16,
     "metadata": {},
     "output_type": "execute_result"
    }
   ],
   "source": [
    "filename = \"amazon_cells_labelled.txt\"\n",
    "\n",
    "data = {\"text\":[], \"sentiment\":[]}\n",
    "df = pd.DataFrame(data)\n",
    "corpus = [] # corpus contains all the text data\n",
    "\n",
    "with open(filename, 'r') as file:\n",
    "    data = file.readlines()\n",
    "    for line in data:\n",
    "        text, sentiment = line[:-2], line[-2]\n",
    "        text = text.rstrip()\n",
    "        corpus.append(text)\n",
    "        df.loc[len(df)] = [text, sentiment]\n",
    "df.to_csv(\"amazon_cells_labelled.csv\", index=False)\n",
    "\n",
    "df.head()"
   ]
  },
  {
   "cell_type": "code",
   "execution_count": null,
   "id": "80f288b9",
   "metadata": {},
   "outputs": [
    {
     "ename": "ModuleNotFoundError",
     "evalue": "No module named 'transformers'",
     "output_type": "error",
     "traceback": [
      "\u001b[31m---------------------------------------------------------------------------\u001b[39m",
      "\u001b[31mModuleNotFoundError\u001b[39m                       Traceback (most recent call last)",
      "\u001b[36mCell\u001b[39m\u001b[36m \u001b[39m\u001b[32mIn[17]\u001b[39m\u001b[32m, line 1\u001b[39m\n\u001b[32m----> \u001b[39m\u001b[32m1\u001b[39m \u001b[38;5;28;01mimport\u001b[39;00m\u001b[38;5;250m \u001b[39m\u001b[34;01mtransformers\u001b[39;00m\n\u001b[32m      2\u001b[39m \u001b[38;5;28;01mfrom\u001b[39;00m\u001b[38;5;250m \u001b[39m\u001b[34;01mtransformers\u001b[39;00m\u001b[38;5;250m \u001b[39m\u001b[38;5;28;01mimport\u001b[39;00m AutoTokenizer\n\u001b[32m      4\u001b[39m tokenizer = AutoTokenizer.from_pretrained(\u001b[33m\"\u001b[39m\u001b[33mgpt2\u001b[39m\u001b[33m\"\u001b[39m) \u001b[38;5;66;03m# this is for normalization\u001b[39;00m\n",
      "\u001b[31mModuleNotFoundError\u001b[39m: No module named 'transformers'"
     ]
    }
   ],
   "source": [
    "from transformers import AutoTokenizer\n",
    "\n",
    "tokenizer = AutoTokenizer.from_pretrained(\"gpt2\") # this is for normalization\n",
    "# for eg-: Héllò hôw are ü? would be normalized to hello how are u?"
   ]
  },
  {
   "cell_type": "code",
   "execution_count": null,
   "id": "5437062c",
   "metadata": {},
   "outputs": [
    {
     "name": "stdout",
     "output_type": "stream",
     "text": [
      "defaultdict(<class 'int'>, {'So': 8, 'Ġthere': 14, 'Ġis': 243, 'Ġno': 19, 'Ġway': 7, 'Ġfor': 115, 'Ġme': 29, 'Ġto': 196, 'Ġplug': 10, 'Ġit': 232, 'Ġin': 84, 'Ġhere': 4, 'Ġthe': 410, 'ĠUS': 1, 'Ġunless': 1, 'ĠI': 188, 'Ġgo': 6, 'Ġby': 8, 'Ġa': 207, 'Ġconverter': 1, '.': 879, 'Good': 12, 'Ġcase': 28, ',': 287, 'ĠExcellent': 1, 'Ġvalue': 4, 'Great': 29, 'Ġjawbone': 2, 'Tied': 1, 'Ġcharger': 19, 'Ġconversations': 3, 'Ġlasting': 2, 'Ġmore': 18, 'Ġthan': 27, 'Ġ45': 1, 'Ġminutes': 6, 'MAJOR': 1, 'ĠPROBLEMS': 1, '!!': 5, 'The': 102, 'Ġmic': 3, 'Ġgreat': 65, 'I': 178, 'Ġhave': 73, 'Ġjiggle': 1, 'Ġget': 22, 'Ġline': 4, 'Ġup': 27, 'Ġright': 12, 'Ġdecent': 4, 'Ġvolume': 12, 'If': 11, 'Ġyou': 55, 'Ġseveral': 7, 'Ġdozen': 1, 'Ġor': 23, 'Ġhundred': 1, 'Ġcontacts': 3, 'Ġthen': 14, 'Ġimagine': 1, 'Ġfun': 1, 'Ġof': 117, 'Ġsending': 3, 'Ġeach': 1, 'Ġthem': 13, 'Ġone': 39, 'Ġare': 41, 'ĠRazr': 2, 'Ġowner': 1, '...': 13, 'you': 5, 'Ġmust': 4, 'Ġthis': 151, '!': 59, 'Needless': 1, 'Ġsay': 7, 'Ġwasted': 2, 'Ġmy': 130, 'Ġmoney': 19, 'What': 6, 'Ġwaste': 12, 'Ġand': 307, 'Ġtime': 26, '!.': 33, 'And': 3, 'Ġsound': 38, 'Ġquality': 44, 'He': 1, 'Ġwas': 87, 'Ġvery': 78, 'Ġimpressed': 9, 'Ġwhen': 20, 'Ġgoing': 6, 'Ġfrom': 32, 'Ġoriginal': 5, 'Ġbattery': 33, 'Ġextended': 2, 'Ġtwo': 13, 'Ġwere': 3, 'Ġseperated': 1, 'Ġmere': 1, 'Ġ5': 8, '+': 1, 'Ġft': 1, 'Ġstarted': 5, 'Ġnotice': 2, 'Ġexcessive': 1, 'Ġstatic': 3, 'Ġgarbled': 1, 'Ġheadset': 45, 'Very': 17, 'Ġgood': 61, 'Ġthough': 3, 'Ġdesign': 10, 'Ġodd': 1, 'Ġas': 42, 'Ġear': 34, 'Ġ\"': 9, 'clip': 1, '\"': 6, 'Ġnot': 93, 'Ġcomfortable': 13, 'Ġat': 23, 'Ġall': 34, 'Highly': 1, 'Ġrecommend': 26, 'Ġany': 19, 'Ġwho': 2, 'Ġhas': 33, 'Ġblue': 3, 'Ġtooth': 2, 'Ġphone': 154, 'Ġadvise': 2, 'ĠEVERYONE': 1, 'ĠDO': 3, 'ĠNOT': 8, 'ĠBE': 1, 'ĠFOOLED': 1, 'ĠFar': 1, 'ĠSo': 2, 'ĠGood': 3, 'Works': 12, 'It': 70, 'Ġclicks': 1, 'Ġinto': 10, 'Ġplace': 4, 'Ġthat': 76, 'Ġmakes': 10, 'Ġwonder': 1, 'Ġhow': 7, 'Ġlong': 11, 'Ġmechanism': 1, 'Ġwould': 32, 'Ġlast': 7, 'Ġwent': 7, 'Ġon': 88, 'ĠMotorola': 9, \"'s\": 43, 'Ġwebsite': 2, 'Ġfollowed': 1, 'Ġdirections': 1, 'Ġbut': 40, 'Ġcould': 15, 'Ġpair': 3, 'Ġagain': 12, 'Ġbought': 16, 'Ġuse': 41, 'Ġwith': 110, 'ĠKindle': 1, 'ĠFire': 2, 'Ġabsolutely': 3, 'Ġloved': 1, 'Ġcommercials': 1, 'Ġmost': 7, 'Ġmisleading': 1, 'Ġyet': 2, 'Ġrun': 2, 'Ġnew': 17, 'Ġbelow': 3, 'Ġbars': 4, 'Ġthree': 6, 'Ġdays': 7, 'Ġwithout': 8, 'Ġcharging': 5, 'Ġmother': 1, 'Ġshe': 4, 'Ġhad': 48, 'Ġproblem': 11, 'ĠPocket': 1, 'ĠPC': 3, 'Ġ/': 1, 'Ġcombination': 1, \"'ve\": 28, 'Ġowned': 2, 'Ġ7': 1, 'Ġmonths': 9, 'Ġnow': 16, 'Ġcan': 22, 'Ġbest': 18, 'Ġmobile': 1, 'Ġdidn': 7, \"'t\": 76, 'Ġthink': 9, 'Ġinstructions': 4, 'Ġprovided': 3, 'Ġhelpful': 5, 'People': 1, 'Ġcouldnt': 1, 'Ġhear': 12, 'Ġtalk': 6, 'Ġpull': 2, 'Ġout': 21, 'Ġearphone': 1, 'Doesn': 4, 'Ġhold': 5, 'Ġcharge': 14, 'This': 53, 'Ġsimple': 5, 'Ġlittle': 8, 'Ġbreakage': 1, 'Ġunacceptible': 1, 'Ġproduct': 51, 'Ġideal': 1, 'Ġpeople': 9, 'Ġlike': 30, 'Ġwhose': 1, 'Ġears': 6, 'Ġsensitive': 1, 'Ġunusable': 2, 'Ġmoving': 1, 'Ġcar': 17, 'Ġfreeway': 1, 'Ġspeed': 1, 'Ġyears': 9, 'Ġleft': 4, 'Ġcontract': 1, 'Ġhate': 4, 'Car': 1, 'Ġwell': 39, 'ĠAC': 1, 'Ġincluded': 2, 'Ġmake': 12, 'Ġsure': 5, 'Ġnever': 7, 'Ġjuice': 1, 'Highy': 1, 'Ġrecommended': 1, 'You': 11, 'Ġneed': 6, 'Ġleast': 2, 'Ġ3': 6, 'Ġmins': 1, 'Ġyour': 32, 'Ġbook': 2, 'Ġfirst': 16, 'Ġturn': 5, 'Battery': 9, 'Ġlife': 10, 'Ġshort': 1, 'Ġkept': 4, 'Poor': 6, 'ĠTalk': 1, 'ĠTime': 1, 'ĠPerformance': 2, 'Ġworks': 32, 'Ġfine': 13, 'Ġ680': 1, 'worthless': 1, 'Ġcamera': 11, 'Ġthats': 2, 'Ġ2': 20, 'MP': 1, 'Ġpics': 1, 'Ġnice': 12, 'Ġclear': 9, 'Ġpicture': 5, 'Nice': 8, 'Ġpriced': 5, 'Ġonly': 21, 'Ġgarbage': 1, 'Ġaudio': 6, 'Excellent': 13, 'Ġbluetooth': 12, 'Ġfeatures': 3, 'Ġwant': 6, 'Who': 1, 'Ġtheir': 6, 'Ġmind': 1, 'Ġgonna': 1, 'Ġbuy': 14, '?.': 2, 'AFTER': 1, 'ĠARGUING': 1, 'ĠWITH': 1, 'ĠVERIZON': 1, 'ĠREGARDING': 1, 'ĠTHE': 2, 'ĠDROPPED': 1, 'ĠCALLS': 1, 'ĠWE': 1, 'ĠRETURNED': 1, 'ĠPHONES': 1, 'ĠAFTER': 2, 'ĠTWO': 1, 'ĠDAYS': 2, 'Ġseems': 4, 'Ġmade': 13, 'Disappointed': 2, 'Not': 12, 'Ġloud': 7, 'Ġenough': 13, 'Ġdoesn': 10, 'Ġshould': 4, 'good': 2, 'Ġprotection': 3, 'Ġdoes': 19, 'Ġtoo': 20, 'Ġbulky': 1, 'A': 9, 'Ġusable': 1, 'Ġkeyboard': 4, 'Ġactually': 4, 'Ġturns': 2, 'ĠPDA': 2, 'Ġreal': 6, '-': 33, 'world': 1, 'Ġuseful': 1, 'Ġmachine': 1, 'Ġinstead': 3, 'Ġjust': 17, 'Ġneat': 1, 'Ġgadget': 1, 'Ġpretty': 8, 'Ġsturdy': 5, 'Ġlarge': 2, 'Ġproblems': 11, 'Ġlove': 16, 'Ġthing': 13, 'Everything': 3, 'Ġabout': 18, 'Ġreasonable': 1, 'Ġprice': 26, 'Ġi': 10, 'e': 1, 'VERY': 3, 'ĠDISAPPOINTED': 1, 'Ġeven': 17, 'Ġdropped': 5, 'Ġstream': 1, 'Ġsubmerged': 1, 'Ġ15': 1, 'Ġseconds': 3, 'Ġstill': 13, 'Ġbeen': 15, 'Ġhappy': 14, 'Ġ510': 3, 'ĠNO': 2, 'Ġcomplaints': 1, 'Ġregarding': 1, 'Ġend': 6, 'Ġbuttons': 7, 'Ġoff': 14, 'Ġbad': 9, 'Essentially': 1, 'Ġforget': 2, 'ĠMicrosoft': 1, 'Ġtech': 2, 'Ġsupport': 4, 'Ġreally': 22, 'Ġfaceplates': 1, 'Ġsince': 7, 'Ġlooks': 8, 'Ġelegant': 1, 'Ġcool': 8, 'These': 4, 'Ġheadphones': 6, 'Ġfind': 6, 'Ġ-': 24, 'Ġthey': 10, 'Ġperhaps': 2, 'Ġpurchase': 12, 'Ġseriously': 2, 'Buy': 1, 'Ġdifferent': 5, 'Ġparticular': 2, 'Ġangle': 1, 'Ġother': 11, 'Ġparty': 2, 'Ġclearly': 2, 'Ġbig': 5, 'Ġdrawback': 1, 'ĠMP': 1, '3': 9, 'Ġplayer': 3, 'Ġfront': 3, 'Ġcover': 2, 'Ġlet': 2, 'Ġpause': 1, 'Ġskip': 1, 'Ġsongs': 1, 'Ġlock': 2, 'Ġafter': 17, 'Ġfew': 14, 'Ġweek': 5, 'Ġlater': 4, 'Ġactivated': 1, 'Ġsuddenly': 1, 'Ġdied': 2, 'Ġfeels': 5, 'Ġheadsets': 7, 'Ġbecause': 17, 'Ġwear': 9, 'Ġglasses': 2, 'Ġgets': 5, 'Ġsometimes': 2, 'ĠiPODs': 1, 'Ġdevice': 11, 'Ġsituations': 1, ':': 1, '1': 5, '.)': 1, 'Mic': 1, 'ĠDoesn': 1, 'Ġwork': 32, 'Even': 1, 'ĠBMW': 1, 'Ġseries': 2, 'Ġwhich': 14, 'Ġfairly': 1, 'Ġquiet': 2, 'Ġtrouble': 3, 'Ġhearing': 1, 'Ġwhat': 8, 'Ġperson': 1, 'Ġsaying': 2, 'Ġchoice': 2, 'Ġdocking': 2, 'Ġstation': 2, 'Ġhome': 3, 'Ġbeautiful': 2, 'Love': 4, 'Do': 3, 'ĠNot': 3, 'ĠBuy': 2, 'ĠD': 2, '807': 2, 'wrongly': 1, 'Ġadvertised': 2, 'Ġitem': 17, 'Ġ,': 3, 'ĠIt': 5, 'Ġhandy': 2, 'Ġlot': 8, 'Ġ.': 2, 'Ġpurchased': 4, 'Ġwithin': 6, 'Ġlonger': 3, 'Ġworking': 11, '!!!!!!!!!': 1, 'Ġeveryday': 1, 'Ġholds': 4, 'Ġbargain': 4, 'Well': 2, 'Ġpackaged': 3, 'Ġarrived': 4, 'Ġintended': 1, 'Ġruns': 1, 'Ġdown': 6, 'Ġquickly': 5, 'Ġworked': 17, 'Ġbroke': 7, 'Ġ6': 2, 'Ġeasy': 14, 'Ġeveryone': 2, 'Ġloves': 2, 'Ġconstruction': 2, 'Ġpoor': 7, 'Product': 3, 'Ġexcellent': 12, 'Ġbetter': 16, 'Ġverizon': 1, 'ĠBoy': 1, 'Ġcheaper': 2, 'Ġloads': 1, 'Ġsuper': 3, 'For': 3, 'Ġcosts': 2, 'Ġmuch': 10, 'Ġexpect': 5, 'Ġfar': 12, 'Ġgreater': 1, 'Ġease': 3, 'Made': 1, 'Worked': 3, 'Ġbuds': 1, 'Ġplay': 2, 'Ġmusic': 2, 'Dont': 1, 'Will': 1, 'Ġorder': 4, 'Ġplan': 2, 'Ġfound': 8, 'Ġbe': 28, 'Ġwaaay': 1, 'Best': 3, 'Ġso': 32, 'Ġ....': 1, 'Ġtried': 8, 'Ġbluetooths': 1, 'Ġ(': 23, 'for': 1, 'Ġboth': 7, 'Ġlistener': 1, ')': 11, 'Ġusing': 10, \"'m\": 22, 'Ġdisappointed': 6, 'Ġdecision': 3, 'Integrated': 1, 'Ġseamlessly': 1, 'ĠRAZR': 1, 'Buyer': 2, 'ĠBeware': 1, 'Ġflush': 1, 'Ġtoilet': 1, 'Definitely': 1, 'Ġfree': 3, 'Ġshipping': 5, 'Ġreceived': 6, 'Ġsupposedly': 1, 'Ġmotorola': 2, 'Ġ375': 1, 'Ġapparently': 1, 'Ġmatch': 2, 'Ġbetween': 3, 'Pros': 1, ':-': 1, 'Ġpictures': 5, 'Ġalso': 16, 'Ġstyles': 1, 'Ġblack': 6, 'Ġwhite': 1, 'That': 3, 'Ġhuge': 2, 'Ġflaw': 1, 'unless': 1, 'Ġcorrectly': 1, 'Ġdon': 15, ').': 10, 'Ġ350': 1, '..': 17, 'ĠMy': 2, 'ĠJabra': 8, '350': 1, 'Ġreception': 15, 'Ġpiece': 9, 'Ġfit': 12, 'Ġalthough': 2, 'Ġrated': 1, 'Ġan': 18, 'Ġimpressive': 2, 'Ġ1': 5, 'Ġmegapixels': 1, 'Ġrenders': 1, 'Ġimages': 1, 'Ġfall': 2, 'Ġexpectations': 1, 'Ġsuch': 3, 'Ġrelatively': 1, 'Ġhigh': 4, 'Ġresolution': 2, 'Ġpurcashed': 1, 'Sound': 1, 'Ġcall': 10, 'Ġwife': 5, 'Ġask': 2, 'Ġ!': 3, '2': 9, 'Ġslim': 2, 'Ġlight': 7, 'Ġdisplay': 2, 'its': 2, 'Ġgeeky': 1, 'Ġits': 8, 'Ġsex': 2, 'Ġtoast': 1, 'Ġrocks': 3, 'Ġoozes': 1, 'Ġembedded': 1, 'Ġsleek': 2, 'Ġstylish': 1, 'Ġleather': 4, 'Ġfast': 3, 'Absolutely': 1, 'Ġcompromise': 1, 'Ġfull': 2, 'ĠQWERTY': 1, 'Ġbasic': 1, 'Ġcell': 13, 'Ġnumber': 2, 'Ġkeypad': 2, 'i': 7, 'Ġgot': 13, 'Ġaround': 6, 'Ġmay': 3, 'Ġcompletely': 7, 'Ġunhappy': 2, 'Ġwinner': 1, 'Ġus': 1, 'Setup': 2, 'Ġcouldn': 8, 'Ġsimpler': 1, 'Ġearpieces': 3, 'Ġfits': 10, 'Ġcomfortably': 4, 'Could': 1, 'Ġstrong': 5, 'Ġsignal': 5, 'Iam': 1, 'Ġpleased': 5, 'Bad': 4, 'ĠQuality': 5, 'Gets': 2, 'Ġjob': 5, 'Ġdone': 2, 'Basically': 1, 'Ġservice': 21, 'it': 3, 'Ġdid': 16, 'Ġam': 20, 'Ġset': 3, 'Ġweeks': 5, 'ĠBT': 4, 'Ġdisapoinment': 1, 'Ġsmall': 7, 'Ġrealize': 1, 'Ġwhile': 13, 'Ġgetting': 3, 'Ġused': 15, 'Ġaccompanied': 1, 'Ġsoftware': 7, 'Ġalmost': 3, 'Ġbrilliant': 1, 'Headset': 1, 'Ġ&': 6, 'Ġnicely': 1, 'Ġavoid': 2, 'Ġdamage': 1, 'Ġdefinitly': 1, '--': 2, 'Be': 1, 'ĠVery': 1, 'ĠCareful': 1, '!!!!!.': 1, 'Ġmajority': 1, 'ĠLogitech': 1, 'Ġearbud': 2, 'Ġfailed': 3, 'Ġstuff': 2, 'My': 12, 'Ġpeachy': 1, 'keen': 1, 'In': 2, 'Ġhouse': 2, 'Ġcoverage': 3, 'Ġupstairs': 1, 'Ġbasement': 1, 'Voice': 2, 'Ġrecognition': 2, 'Ġtremendous': 2, 'During': 1, 'Ġminute': 1, 'Ġcalls': 10, 'Ġexperienced': 2, 'Ġdrops': 3, 'Ġarea': 3, 'very': 3, 'Ġtakes': 2, 'ĠFOREVER': 1, 'Ġhours': 5, 'Ġliterally': 2, 'Ġreccomendation': 1, 'Ġrelative': 1, 'Ġglad': 3, 'Its': 5, 'Items': 1, 'Ġstated': 2, 'Ġdescription': 3, 'ĠARE': 1, 'ĠINCLUDED': 1, 'After': 6, 'Ġscreen': 10, 'Ġsudden': 1, 'ĠWas': 2, 'ĠHoping': 1, 'ĠMore': 1, 'Audio': 1, 'Ġlinking': 1, 'Ġ8530': 1, 'ĠBlackberry': 2, 'ĠCurve': 1, 'Ġknow': 5, 'Ġsounds': 1, 'Ġfunny': 1, 'Ġseemed': 1, 'Ġsketchy': 1, 'Ġtechnology': 2, 'Ġwouldn': 2, 'Ġ$': 2, '5': 1, 'Ġwired': 2, 'Ġthese': 16, 'Ġkind': 4, 'Ġmessages': 1, 'Ġweb': 1, 'Ġbrowsing': 1, 'Ġsignificantly': 1, 'Ġfaster': 1, 'Ġprevious': 2, 'Ġphones': 9, 'Ġbuild': 1, 'Ġunlike': 1, 'Ġsome': 7, 'Ġcheap': 8, 'Ġs': 1, '***': 1, 'Ġfantastic': 1, 'Ġperfectly': 6, 'Ġcolors': 1, 'W': 1, '810': 2, 'ĠSUPERB': 1, 'All': 7, 'Ġdo': 11, 'Ġwhine': 1, 'ĠInternet': 3, 'Ġgoes': 4, 'Ġless': 6, 'Ġessentially': 1, 'Ġcommunications': 1, 'Ġtool': 4, 'Ġcommunicate': 1, 'Ġcharm': 5, ';': 9, 'Ġsame': 12, 'Ġmaintain': 2, 'Ġmonkeys': 1, 'Ġshouldn': 1, 'Ġwe': 1, 'Ġobviously': 2, 'Ġshare': 1, 'ĠDNA': 1, 'Ġcopy': 1, 'Ġover': 9, 'Ġhumans': 1, 'ĠValue': 1, 'Ġbougth': 1, 'ĠL': 1, '7': 3, 'c': 2, 'Ġlook': 7, 'Ġsharp': 3, 'Ġgraphics': 2, 'doesn': 1, 'One': 2, 'Ġmode': 1, 'Ġbutton': 2, 'Ġside': 4, 'EXCELLENT': 1, 'ĠSERVICE': 1, '!!!!!!!!.': 1, 'Thank': 2, 'Ġwasting': 1, 'How': 2, '?': 2, 'ĠiGo': 2, 'Ġchargers': 3, 'Ġtips': 2, 'Ġfile': 1, 'Ġbrowser': 1, 'Ġoffers': 1, 'Ġoptions': 1, 'Ġneeds': 1, 'Handsfree': 1, 'Superb': 1, 'ĠPhone': 7, 'ĠGreat': 3, 'ĠNetwork': 1, 'Ġconnected': 2, ',(': 1, 'Motorola': 2, 'ĠHS': 1, '850': 1, 'Ġwhether': 1, 'Ġpocket': 2, 'Ġput': 6, 'Ġlatest': 1, 'ĠOS': 1, 'v': 2, '15': 1, 'g': 1, '),': 2, 'Ġlikes': 1, 'Ġslow': 3, 'Ġcrawl': 1, 'Ġevery': 5, 'Ġonce': 3, 'Ġrecognizes': 1, 'Ġstorage': 2, 'Ġbuzzing': 2, 'Ġoverride': 2, 'Don': 10, 'Ġbluetoooth': 1, 'Ġfunctionality': 2, 'Ġawesome': 2, 'Ġthorn': 1, 'Ġabhor': 1, 'Ġrecently': 1, 'Ġwhere': 5, 'Ġstay': 3, 'Ġ10': 3, 'Ġbefore': 6, 'Ġbeing': 7, 'Ġdisconnected': 1, 'Incredible': 1, 'Design': 1, 'ĠFlaw': 1, 'Waste': 2, 'Ġ13': 1, 'Ġbucks': 1, 'But': 5, 'Ġcheck': 1, 'Ġvoice': 6, 'Ġmail': 1, 'Ġnight': 1, 'Ġbacklight': 1, 'Ġmessage': 1, 'Ġlost': 3, 'Ġreplacement': 3, 'Any': 1, 'Ġring': 2, 'Ġtone': 1, 'Overall': 4, 'Lately': 1, 'Ġextremely': 2, 'Ġwit': 1, 'Ġhit': 1, 'Ġdropping': 2, 'Light': 1, 'Ġweight': 1, 'Ġhardly': 1, \"'ll\": 3, 'Ġthin': 2, 'ĠChoice': 1, 'Ġpleather': 1, 'useless': 1, 'Ġsimply': 3, 'Ġdeaf': 1, 'Ġcolor': 5, 'Ġprettier': 1, 'Ġthought': 3, 'Ġincredibly': 1, 'Ġinvestment': 1, 'Ġstrange': 1, 'Ġticking': 1, 'Ġnoises': 1, 'Ġends': 1, 'Ġelectronics': 1, 'Ġavailable': 1, 'ĠFM': 1, 'ĠTransmitters': 1, 'Ġlasts': 4, 'great': 2, 'ĠH': 1, '500': 2, 'Ġmega': 1, 'Ġpixel': 1, 'Ġpart': 5, 'Ġreasonably': 3, 'Ġnearly': 2, 'Ġtransmit': 1, 'We': 5, 'Ġback': 8, 'Ġbother': 2, 'Ġcontacting': 1, 'Ġcompany': 7, 'Ġdollar': 1, 'Ġlearned': 1, 'Ġlesson': 1, 'Ġform': 3, 'Ġonline': 1, 'Ġanyway': 1, 'Ġearbugs': 1, 'Ġmeans': 1, 'Ġrange': 3, 'Ġable': 4, 'Ġroam': 1, 'Ġliving': 1, 'Ġroom': 2, '/': 7, 'sound': 1, 'Ġissues': 2, 'fast': 1, 'Ġhighly': 8, 'on': 1, 'Ġfelt': 2, 'Ġcrack': 1, 'WORST': 1, 'ĠPHONE': 4, 'ĠEVER': 1, 'Ġinfatuated': 1, 'Freezes': 1, 'Ġfrequently': 1, '4': 2, 'Ġembarrassing': 2, 'Ġmostly': 1, 'Ġchild': 1, 'like': 1, 'Simple': 1, 'Ġlightweight': 3, \"'d\": 6, 'Ġexpected': 4, 'Ġconsumer': 2, 'Ġexperience': 3, 'There': 3, 'Ġhorrible': 5, 'Ġtick': 1, 'Ġbackground': 2, 'Ġcertainly': 2, 'Ġusually': 2, 'Ġheadbands': 1, 'Ġmess': 2, 'Ġhair': 1, 'Ġbit': 2, 'Ġyear': 7, 'Ġwill': 14, 'Ġtell': 2, 'Ġordered': 3, 'Ġsony': 2, 'ĠEricsson': 1, 'ĠW': 1, 'thats': 1, 'Ġuseless': 4, 'Ġ$$$': 2, 'Really': 2, 'Ġfavorite': 1, 'Ġpurchases': 1, 'Ġever': 17, 'best': 1, 'Ġmarket': 3, 'Authentic': 1, 'Ġshine': 1, 'Ġcomfort': 2, 'Ġ!!': 1, 'Ġexcited': 2, 'Ġcute': 1, 'Ġmistake': 4, 'Big': 1, 'ĠDisappointment': 2, 'Ġcalendar': 1, 'Ġsync': 1, 'the': 5, 'Worst': 4, 'ĠCustomer': 1, 'ĠService': 1, 'ĠEver': 1, 'No': 5, 'Ġadditional': 2, 'Ġgels': 2, 'Ġwhatsoever': 2, 'Ġdefeats': 1, 'Ġpurpose': 1, 'Worth': 1, 'Ġpenny': 1, 'Ġwallet': 1, 'Ġtype': 1, 'Internet': 1, 'Ġexcrutiatingly': 1, 'Ġprobably': 3, 'Ġimportant': 5, 'Ġaspect': 1, 'Ġglove': 1, 'Ġsecure': 2, 'Ġdurable': 1, 'O': 1, 'Ġgosh': 1, 'Ġattractive': 1, 'Ġappears': 1, 'Ġfactor': 1, 'Ġrubber': 1, 'petroleum': 1, 'Ġsmell': 2, 'Ġunbearable': 1, 'Ġcaused': 2, 'Ġreturn': 5, 'poor': 2, 'Ġcable': 6, 'Ġflimsy': 2, 'Ġscary': 1, 'ĠEarpiece': 1, 'Ġhands': 5, 'Ġstereo': 1, 'Ġincredible': 1, 'Only': 1, 'Ġmonth': 2, 'Ġflawlessly': 2, 'Absolutel': 1, 'Ġjunk': 6, 'THAT': 1, 'Ġeither': 4, 'Returned': 1, 'Ġ8': 1, 'Ġdrain': 3, 'Ġpotentially': 1, 'Ġfry': 1, 'Unreliable': 1, 'Ġgiving': 1, 'Ġgave': 1, 'Ġstars': 2, 'Avoid': 1, 'Ġif': 16, 'Reversible': 1, 'Ġearpiece': 3, 'Ġrotating': 1, 'Ġfeature': 5, 'Comfort': 1, 'Ġour': 1, 'Ġwhole': 2, 'Ġfamily': 4, 'Ġseller': 3, 'First': 3, 'ĠPlantronics': 3, 'Ġadorable': 2, 'Ġbuying': 4, 'Piece': 2, 'ĠJunk': 1, 'Poorly': 1, 'Ġcontstruct': 1, 'Ġhinge': 1, 'Ġinstalled': 1, 'Ġcharged': 3, 'Ġovernite': 1, 'DO': 2, 'ĠPURCHASE': 1, 'ĠTHIS': 1, 'Ġthru': 1, 'Ġhandset': 1, 'Ġcat': 1, 'Ġattacked': 1, 'Ġhe': 1, 'Ġscratched': 3, 'Ġprotective': 1, 'Ġstrip': 1, 'Ġdestroying': 1, 'Customer': 1, 'Ġterrible': 6, 'ĠRazor': 1, 'ĠV': 3, 'Sending': 1, 'Now': 1, 'Ġwise': 1, 'Someone': 1, 'Ġshouldve': 1, 'Ġinvented': 1, 'Ġsooner': 1, 'Ġtry': 4, 'Ġengineered': 1, 'Ġclever': 1, 'Has': 1, 'As': 3, 'Ġmany': 5, 'Ġcomplained': 1, 'Ġmicrophone': 3, 'Ġweak': 4, 'year': 1, 'Ġold': 5, 'ĠNokia': 4, 'Ġ2160': 1, 'ĠTracfone': 1, 'They': 7, 'Ġcare': 3, 'Ġinstruction': 1, 'Ġmanual': 1, 'Ġlacking': 3, 'Also': 6, 'Ġalarm': 1, 'Ġclock': 1, 'Ġremoving': 1, 'Phone': 3, 'Ġunreliable': 3, 'Ġantena': 1, 'Ġuncomfortable': 2, 'Ġquite': 7, 'Ġcompared': 1, 'Razr': 2, 'that': 1, 'Ġplugged': 3, 'ĠLG': 3, 'Ġgotten': 2, 'Ġcompliments': 1, 'Ġdefinitely': 4, 'Ġstate': 1, 'Ġallow': 1, 'Ġusage': 1, 'Ġdriving': 2, 'Ġimmediately': 1, 'ĠNgage': 1, 'Ġearbuds': 1, 'Ġdialing': 2, 'Ġcant': 1, 'Ġanything': 5, 'Ġlow': 8, 'However': 6, 'Ġriingtones': 1, 'Ġneither': 2, 'Ġgames': 2, 'AMAZON': 1, 'ĠSUCKS': 2, 'Rip': 1, '----': 1, 'ĠOver': 1, 'Ġcame': 6, 'Ġago': 4, 'Ġcouple': 5, 'ĠiPod': 2, 'Ġrecharge': 2, 'Ġfrequentyly': 1, 'Ġflip': 3, 'Obviously': 2, 'Ġadhesive': 1, 'Ġdisappointing': 2, 'Ġinexpensive': 1, 'Ġpractically': 1, 'Ġadd': 1, 'Ġboost': 1, 'Was': 1, 'ĠPIECE': 2, 'ĠOF': 2, 'ĠJUNK': 1, 'ĠTHAT': 1, 'ĠBROKE': 1, 'ĠBEING': 1, 'ĠON': 1, 'ĠMY': 1, 'ĠFOR': 1, '!!!': 3, 'New': 1, 'ĠBattery': 4, 'Ġcustomer': 7, 'Ġtimes': 4, 'Ġconcrete': 1, 'knock': 1, 'Ġwood': 1, '!).': 1, 'Reception': 1, 'Ġtransformed': 1, 'Ġorganizational': 1, 'Ġcapability': 1, 'Ġeasier': 4, 'Ġsitting': 1, 'Ġvehicle': 1, 'Ġcradle': 1, 'Ġbelt': 5, 'Were': 1, 'ĠJERKS': 1, 'ĠWorks': 3, 'Comfortable': 3, 'ĠNice': 1, 'ĠRange': 2, 'ĠLife': 2, 'Their': 2, 'Ġnetwork': 2, 'ĠLos': 1, 'ĠAngeles': 1, 'Ġstarter': 1, 'Ġwireless': 2, 'Ġloudspeaker': 1, 'Ġoption': 1, 'Ġbumpers': 1, 'Ġlights': 1, 'Ġ...': 1, 'Ġappealing': 1, 'Ġimprove': 1, 'Ġleaks': 1, 'Ġsucks': 2, 'ĠEXTREMELY': 1, 'ĠHOT': 1, 'according': 1, 'Ġcalled': 1, 'Ġapplifies': 1, 'Ġeverything': 6, 'Ġsave': 1, 'Ġspecially': 1, 'Ġface': 4, 'Ġtransmission': 1, 'bad': 1, 'ĠS': 2, '11': 1, 'awesome': 1, 'Ġdata': 5, 'Ġfinished': 1, 'ĠThis': 2, 'Ġlooking': 7, 'Ġhappier': 3, 'Ġdrivng': 1, 'Ġalong': 2, 'Ġstarts': 2, 'Ġringing': 2, 'Ġreason': 2, 'Display': 1, 'Ġworst': 8, '....': 9, 'ĠOnly': 1, 'Ġhaving': 4, 'Ġauto': 2, 'Ġreverse': 1, 'Ġtape': 1, 'Ġembarassing': 1, 'Ġhurt': 1, 'Ġpush': 2, 'Protects': 1, 'Ġsides': 2, 'ĠVERY': 2, 'Ġaverage': 1, 'Ġoperates': 1, 'Clear': 2, 'ĠSkype': 2, 'ĠCalls': 2, 'ĠLong': 2, 'Soyo': 1, 'ĠHands': 1, 'ĠFree': 1, 'ĠDevice': 2, 'Ġtake': 7, 'Ġself': 1, 'Ġportraits': 1, 'Ġoutside': 1, 'exterior': 1, 'Same': 1, 'Ġothers': 4, 'Ġmentioned': 1, 'Ġtrying': 2, 'Ġhandsfree': 2, 'Ġgadgets': 1, 'Ġfinally': 2, 'Magical': 1, 'ĠHelp': 1, 'Ġcrap': 3, 'ĠVerizon': 5, 'Ġ:).': 1, 'Ġshipped': 2, 'Ġpromptly': 1, 'Exactly': 1, 'Ġwanted': 3, 'Ġcomparably': 1, 'priced': 1, 'Ġoffering': 1, 'Ġtoday': 1, 'Ġdeal': 4, 'Ġsatisfied': 3, 'Ġencourage': 1, 'Ġgive': 3, 'Better': 3, 'Using': 1, 'Sounds': 1, 'Ġeffective': 1, 'ĠIts': 1, 'Still': 1, 'ĠWaiting': 1, '......': 1, 'Ġrecieve': 1, 'what': 2, 'Ġdisappointment': 2, 'Ġprompt': 1, 'don': 2, 'Ġespecially': 5, 'Ġstupid': 2, 'Ġkeep': 4, 'Ġcradles': 1, 'Ġkits': 1, 'Ġcomes': 3, 'Plantronics': 1, 'ĠBluetooth': 4, 'ĠExcelent': 1, 'Ġcingulair': 1, 'Ġnicer': 1, 'Ġnoticed': 2, 'Jawbone': 1, 'ĠEra': 1, 'ĠWHITE': 1, 'Ġcolored': 1, 'ĠDEAD': 1, 'ĠhoursTHe': 1, 'Ġthereplacement': 1, 'Ġdead': 2, 'An': 1, 'ĠAwesome': 1, 'ĠNew': 2, 'ĠLook': 1, 'ĠFor': 1, 'ĠFall': 1, 'Ġ2000': 1, 'Ġcheaply': 1, 'Att': 1, 'Ġdistorted': 1, 'Ġyell': 1, 'Ġplastic': 5, 'Ġbreaks': 2, 'Ġclip': 3, 'Price': 1, 'Oh': 3, 'Ġforgot': 1, 'Ġmention': 1, 'Ġweird': 1, 'Ġeffect': 2, 'Ġiriver': 1, 'ĠSPINN': 1, 'with': 1, 'Ġunit': 8, ').-': 1, 'Ġfond': 1, 'Ġmagnetic': 1, 'Ġstrap': 1, 'Ġpsyched': 1, 'Ġappointments': 1, 'every': 1, 'Another': 1, 'Ġnote': 1, 'Ġappearance': 1, 'Ġrather': 4, 'Ġbland': 1, 'Ġmodel': 2, 'IT': 1, \"'\": 1, 'S': 1, 'ĠREALLY': 1, 'ĠEASY': 1, 'ĠSanyo': 1, 'Ġsurvived': 1, 'Ġdozens': 1, 'Ġblacktop': 1, 'Ġill': 1, 'Fantastic': 2, 'Ġearphones': 1, 'Ġfinds': 1, 'Ġaway': 3, 'Ġenter': 1, 'Low': 1, 'Ġmodest': 1, 'Ġcellular': 1, 'Ġclarity': 5, 'Warning': 1, 'ĠStay': 1, 'Ġwish': 1, 'Awsome': 1, '!!.': 2, 'Ġdrained': 1, 'Ġdying': 2, 'Ġearpad': 1, 'Ġanyone': 6, 'ĠDispleased': 1, 'Ġmight': 3, 'Ġdefect': 1, 'Ġrisk': 1, 'Ġbuilt': 1, 'Ġalone': 2, 'Ġdifficult': 6, 'Ġinstall': 2, 'Restored': 1, 'Ġperformance': 2, 'Ġpurchasing': 2, 'ĠJX': 1, '10': 1, 'ĠMoto': 1, 'ĠQ': 3, 'Ġfigure': 2, 'Ġsearched': 1, 'Does': 6, 'Ġsize': 3, 'Ġkey': 1, 'Ġpad': 1, 'Ġlit': 1, 'Ġnothing': 4, 'Ġamazon': 1, 'Ġhard': 5, 'Ġwasn': 3, 'Portable': 1, 'Ġcolleague': 1, 'Ġexpensive': 3, 'Ġfully': 1, 'Ġbed': 1, 'Ġturned': 3, 'Ġwi': 1, 'fi': 1, 'Ġ20': 2, 'Ġ%': 1, 'Ġmorning': 1, 'Ġreading': 2, 'Ġmemory': 1, 'Ġcard': 1, 'Ġalways': 4, 'Ġwearing': 2, 'Ġhat': 1, 'Ġsunglasses': 2, 'Timely': 1, 'Ġshipment': 1, 'Ġsolid': 1, 'ĠSurefire': 1, 'ĠGX': 1, 'Horrible': 2, 'BT': 1, '50': 2, 'Cant': 1, 'Ġcomputer': 3, 'Ġbuyers': 1, 'Ġremorse': 1, 'ĠAccessoryOne': 1, 'Ġinexcusable': 1, 'Ġreturning': 2, 'Ġchanging': 1, 'Ġcarriers': 1, 'Looks': 2, '.\"': 2, 'ĠTMobile': 1, 'Ġupdate': 1, 'Ġprocedure': 1, 'Ġcumbersome': 1, 'Disappointment': 1, 'ĠMotorolas': 1, 'Ġdelivery': 1, 'Uncomfortable': 1, 'ĠIn': 1, 'ĠEar': 1, 'ĠDon': 1, 'ĠVX': 2, '9900': 1, 'EnV': 1, 'Ġswitch': 2, 'Ġrocketed': 1, 'Ġdestination': 1, 'Ġunknown': 1, 'Ġunder': 3, 'wearing': 1, 'Ġconditions': 1, 'Ġworthwhile': 1, 'Ġusefulness': 1, 'Verizon': 2, 'Ġbills': 1, 'Ġhowever': 2, 'Ġunderstand': 2, 'Ġpricing': 1, 'Ġplans': 1, 'Ġovernight': 1, 'Ġbatteries': 2, 'Ġwon': 2, 'Ġregret': 1, 'Ġuser': 2, 'Ġfriendly': 2, 'Unfortunately': 4, 'Ġability': 2, 'Ġreceiving': 2, 'Ġpitiful': 1, 'Ġrespect': 1, 'Then': 3, 'Ġexchanged': 2, 'Ġresults': 2, 'Ġstuck': 1, 'Ġmax': 1, 'Ġmute': 1, 'Ġhybrid': 1, 'Ġpalmtop': 1, 'camera': 2, 'cellphone': 1, 'Ġexcels': 1, 'Ġthose': 3, 'Ġroles': 1, '250': 1, 'Ġliked': 1, 'Pretty': 1, 'Plug': 1, 'Ġwrong': 3, 'Ġdescribed': 2, 'Save': 1, 'Ġ11': 1, 'ĠPurchase': 1, 'WELL': 1, 'ĠIM': 1, 'ĠSATISFIED': 1, 'Ġbose': 1, 'Ġnoise': 3, 'Ġcancelling': 1, 'Ġamazing': 1, 'ĠNYC': 1, 'Ġcommuter': 1, 'Defective': 1, 'Ġgiven': 3, 'Ġstar': 3, 'Ġunacceptable': 2, 'Unless': 1, 'Ġholster': 3, 'Ġphoto': 1, 'Ġad': 1, 'no': 1, 'Ġearlier': 1, 'Ġreview': 2, 'Ġnoted': 1, 'Ġhappens': 1, 'Ġfrog': 1, 'Ġeye': 1, 'Ġcatching': 2, 'Ġpushed': 1, 'Ġfunction': 1, 'Ġamazed': 2, 'Ġaluminum': 1, 'ĠPalm': 3, 'Ġprotected': 1, 'Ġhandheld': 1, 'Mobile': 3, 'ĠTools': 1, 'Ġsturdiness': 1, 'Ġorders': 1, 'Ġtimeframe': 2, 'Ġoverall': 1, 'Ġsource': 1, 'Ġwaterproof': 1, 'Ġcomplaint': 2, 'Ġstandard': 1, '(': 2, 'of': 1, 'Thanks': 1, 'ĠAmazon': 6, 'Ġthings': 2, 'Ġended': 2, 'Ġsliding': 1, 'Ġedge': 1, 'Ġpants': 1, 'Ġpockets': 1, 'Ġstore': 4, 'ĠNOKIA': 1, 'REALLY': 1, 'ĠUGLY': 1, 'horrible': 1, 'Ġshield': 1, 'Ġincrediable': 1, 'Ġimprovement': 1, 'Keep': 1, 'Ġrefuse': 1, 'Ġrefund': 3, 'Ġreplace': 5, 'Ġaccidentally': 2, 'Ġactivate': 1, 'Ġgentle': 1, 'touch': 1, 'Ġtouch': 1, 'Ġlistening': 2, 'Ġbasically': 1, 'Ġthrew': 1, 'Ġwindow': 1, 'Ġtook': 2, 'Ġdrop': 3, 'Ġinches': 1, 'Ġabove': 3, 'Ġkitchen': 1, 'Ġcounter': 1, 'Ġcracked': 1, 'Ġlaughing': 1, 'Bluetooth': 2, 'Ġtrunk': 1, 'Ġcarried': 1, 'Ġconversation': 2, 'Ġhitch': 1, 'Small': 1, 'Ġpractical': 1, 'Ġsetup': 1, 'Ġample': 1, 'Ġeargels': 1, 'Ġchannel': 1, 'Ġdirectly': 1, 'Ġseem': 2, 'Ġincrease': 1, 'none': 1, 'Ġones': 1, 'Ġproperly': 1, 'Ġmissed': 1, 'Ġnumerous': 2, 'Perhaps': 1, 'Ġdefective': 1, 'Ġcannot': 5, 'sucked': 1, 'Ġshifting': 1, 'Ġbubbling': 1, 'Ġpeeling': 1, 'Ġscratch': 1, 'ĠNOTHING': 1, 'ĠDroid': 1, 'ĠIf': 1, 'Ġzero': 1, 'Trying': 1, 'Ġexercise': 1, 'Ġfrustration': 1, 'Ġown': 4, 'ĠEarset': 1, 'Ġoutgoing': 1, 'Ġtotal': 1, 'Ġpackage': 1, 'Ġunderstanding': 1, 'Ġpatient': 1, 'ĠWirefly': 1, 'Ġcontact': 1, 'ĠCingular': 3, 'AT': 1, '&': 1, 'T': 2, 'Ġinform': 1, 'Ġpractice': 1, 'ĠAGGRAVATING': 1, 'Ġfriends': 1, 'Ġenjoy': 1, 'Virgin': 1, 'ĠWireless': 1, 'None': 2, 'Muddy': 1, 'Ġcasing': 1, 'Ġwire': 1, 'Ġinsert': 1, 'Ġpoorly': 2, 'Ġglued': 1, 'Ġslid': 1, 'Please': 1, 'Ġdont': 1, 'ĠHeadset': 2, 'Ġisn': 1, 'Yet': 1, 'ĠPlantronincs': 1, 'Ġcontinues': 1, 'Ġflawed': 1, 'Disapointing': 1, 'ĠResults': 1, 'Cumbersome': 1, '!!!!': 2, 'ĠProduct': 1, 'ĠA': 2, 'ĠCRAP': 2, '.....': 3, 'Ġfourth': 1, 'which': 1, 'ĠHATED': 1, 'Ġfixes': 1, 'Ġaccessing': 1, 'Ġdownloading': 1, 'Ġringtones': 4, 'Ġperforming': 1, 'Ġfunctions': 1, 'Ġbarely': 2, 'Ġconstantly': 1, '?\"': 1, 'Ġjoke': 2, 'Ġsaid': 4, 'Due': 1, 'Ġhappening': 1, 'Ġforced': 2, 'Ġstop': 1, 'Ġadapters': 1, 'Ġwalked': 1, 'Ġthrough': 3, 'Ġprocedures': 1, 'Ġnone': 2, 'Ġre': 1, 'set': 1, 'Ġwiping': 1, 'ĠSignal': 1, 'ĠStrength': 1, 'ĠDropped': 1, 'Ġplays': 1, 'Ġlouder': 1, 'Ġspeaker': 3, 'Ġconstructed': 1, 'Ġmenus': 1, 'Ġnavigate': 1, 'Ġrecessed': 1, 'Ġholding': 2, 'Ġavoiding': 1, 'Ġbroken': 2, 'Ġsmoking': 1, 'Sprint': 2, 'Linked': 1, 'Ġeffort': 1, 'THey': 1, 'Easy': 3, 'ĠThan': 1, 'Ġpossesed': 1, 'Ġidea': 1, 'Ġtrash': 1, 'ĠResearch': 1, 'ĠDevelopment': 1, 'Ġdivision': 1, 'Ġknows': 1, \"'re\": 1, 'Ġdoing': 1, 'Ġkiller': 1, 'Ġcourse': 1, 'Ġbreaking': 2, 'Those': 1, 'ĠConstruction': 1, 'Ġinfuriating': 1, 'ĠWalkman': 1, 'Ġcharges': 1, 'Ġfeel': 3, 'ĠEurope': 1, 'ĠAsia': 1, 'clipping': 1, 'Ġdeffinitely': 1, 'Ġ50': 1, 'Ġcent': 1, 'and': 1, 'coming': 1, 'Ġbehing': 1, 'Ġ5020': 1, 'Ġcomfortible': 1, 'Ġ24': 1, 'Ġday': 4, 'Ġpain': 1, 'Ġquick': 2, 'Ġarrival': 1, 'Ġlg': 1, 'Ġfraction': 1, 'Ġsamsung': 1, 'crap': 1, 'Ġcrappy': 1, 'ĠSamsung': 5, 'ĠE': 2, '715': 1, 'Ġseeen': 1, 'Ġstopped': 1, 'Ġneeded': 3, 'Ġoperate': 2, 'Ġinterface': 1, 'Ġdecade': 1, 'Ġcompete': 1, 'Ġdesigns': 1, 'Ġpaired': 2, 'ĠTreo': 2, 'Ġ700': 1, 'w': 1, 'using': 1, 'ĠUSB': 3, 'Ġtransceiver': 1, 'Steer': 1, 'Ġgenuine': 1, 'Ġreplacementr': 1, 'Ġpens': 1, 'Ġcome': 2, 'pack': 1, 'ĠBUY': 2, 'ĠBUYIT': 1, 'Ġbeats': 1, 'Ġfingers': 1, 'Plus': 1, 'Ġbelieve': 1, 'Ġworth': 3, 'Ġsteep': 1, 'Ġpoint': 1, 'Ġcases': 5, 'Ġnormally': 1, 'Ġapart': 1, 'Ġhaul': 1, 'ĠDissapointing': 1, 'Ġplease': 1, 'Ġbrand': 2, 'Case': 1, 'Ġextra': 4, 'Ġoriginally': 1, 'Ġdiscarded': 1, 'mp': 1, 'Ġplayers': 1, 'Ġposted': 1, 'Ġdetailed': 1, 'Ġcomments': 1, 'Ġgrey': 1, 'ĠRed': 1, 'Ġpay': 3, 'Ġguess': 1, 'Ġexisting': 1, 'ĠCDs': 1, 'Ġinternet': 3, 'Ġconnection': 5, 'im': 1, 'Ġsurprised': 1, 'Ġreviews': 2, 'Ġfabulous': 1, 'Ġcurrently': 1, 'person': 1, 'Ġshooters': 1, 'Ġdelay': 1, 'Ġmesses': 1, 'Ġbitpim': 1, 'a': 3, 'Ġprogram': 1, 'to': 1, 'Ġtransfer': 1, 'Disappointing': 1, 'Ġaccessory': 1, 'Ġmanufacturer': 1, 'Performed': 1, 'Ġawful': 3, 'Ġ--': 3, 'Ġmuffled': 1, 'Ġtinny': 2, 'Ġincoming': 1, 'Ġsevere': 1, 'Ġecho': 1, 'Ġwind': 2, 'resistant': 1, 'Ġforever': 2, 'Ġoverly': 1, 'Ġcontacted': 1, 'Ġtold': 2, 'Ġwarranty': 2, 'Ġproduce': 1, 'Ġreceipt': 1, 'Ġluck': 1, 'Linksys': 1, 'Ġexchange': 1, 'Ġrefurb': 1, 'Ġsomething': 2, 'Ġnokia': 2, 'Ġbar': 2, 'When': 2, 'Ġplaced': 2, 'Ġtreo': 1, 'Ġsnug': 1, 'ĠLOT': 1, 'Ġheavy': 1, 'Ġkeeps': 1, 'Ġfalling': 1, 'Utter': 1, 'ĠSound': 3, 'ĠTERRIBLE': 1, 'Ġpromised': 1, 'Ġloop': 1, 'Ġtiny': 1, 'Finally': 1, 'Ġfour': 1, 'Ġspring': 2, 'Ġlatch': 1, 'Ġvisor': 1, 'Ġtries': 2, 'Ġdownload': 2, 'Ġaddress': 1, 'Ġreboots': 1, 'Ġrate': 1, 'Talk': 1, 'ĠUSELESS': 2, 'tinny': 1, '.\".': 1, 'ĠTungsten': 1, 'Ġflipphones': 1, 'designed': 1, 'Much': 1, 'Ġsmoothly': 1, 'Ġstudy': 1, 'Ġinterested': 1, 'worst': 1, 'Ġsins': 1, 'Ġindustrial': 1, 'Ġhappened': 1, 'Ġtracking': 1, 'Ġaccess': 2, 'Ġdetachable': 1, 'Ġcontinue': 1, 'Ġpairing': 3, 'Ġperiodically': 1, 'Ġsomehow': 1, 'Can': 2, 'Ġupload': 1, 'Ġthird': 2, 'Ġlocks': 1, 'Ġscreens': 1, 'Ġflash': 2, 'Ġrandomly': 1, 'Ġlocked': 1, 'Truly': 1, 'Ġ325': 1, 'Ġcellphone': 1, 'Ġworn': 1, 'out': 2, 'Ġringer': 1, 'ĠREAL': 1, 'Ġchoices': 1, 'Ġtones': 2, 'Ġacceptable': 1, 'Ġbalance': 1, 'ĠAWFUL': 1, 'Ġready': 1, 'Ġprime': 1, 'Ġcoming': 1, 'Ġworthless': 2, 'Ġupbeat': 1, 'Chinese': 1, 'ĠForgeries': 1, 'ĠAbound': 1, 'ĠCell': 1, 'Ġexplain': 1, 'Ġjack': 1, 'Too': 1, 'ĠCA': 1, '42': 1, 'Ġcrisp': 1, 'Ġsmallest': 1, 'Ġstays': 1, 'Ġbiggest': 1, 'Ġdrains': 1, 'Ġsuperfast': 1, 'Ġergonomic': 1, 'Ġtheory': 1, 'Ġstand': 1, 'Ġvideo': 2, 'Ġclips': 1, 'Because': 1, 'Ġoccupied': 1, 'Ġdistracting': 1, 'Ġhour': 2, 'Ġentire': 1, 'Ġaccept': 2, 'Ġexcept': 1, 'ĠCBR': 1, 'Ġmp': 1, 's': 2, 'Ġpreferably': 1, 'Ġripped': 1, 'ĠWindows': 1, 'ĠMedia': 1, 'ĠPlayer': 1, 'Ġbeat': 1, '*': 1, 'ĠComes': 1, 'Ġshots': 1, 'ĠSOS': 1, 'Ġsignals': 1, 'seriously': 1, 'lightweight': 1, 'Ġbeware': 1, 'Ġallows': 2, 'Ġconnect': 1, 'Ġmini': 1, 'USB': 1, 'Ġnear': 1, 'Ġopen': 1, 'Ġallowing': 1, 'ĠStarTac': 1, 'Ġregretted': 1, 'Appears': 1, 'Ġoutperform': 1, 'ĠChina': 1, '325': 1, 'Ġnumbers': 1, 'ĠSIM': 1, 'o': 1, 'jabra': 1, 'R': 1, 'Ġcrashed': 1, 'Ġreplaced': 1, 'Ġquit': 1, 'Ġ18': 1, 'Ġanother': 3, 'ĠiPhone': 2, 'Ġ4': 2, 'Ġdespite': 3, 'Ġconnecting': 1, 'Ġmultiple': 1, 'Ġpower': 2, 'Ġsources': 1, 'iMac': 1, 'Ġexternal': 1, 'Ġwall': 2, 'Ġoutlet': 3, 'Ġetc': 2, 'if': 1, 'Ġelsewhere': 1, 'Ġbells': 1, 'Ġwhistles': 1, 'Ġmediocre': 1, 'Ġvia': 1, 'Ġslide': 1, 'Ġgrip': 1, 'Ġprevents': 1, 'Ġslipping': 1, 'Ġhand': 2, 'ĠBEST': 1, 'Think': 1, 'ĠMOTO': 1, 'Ġspan': 1, 'Ġexclaim': 1, 'Whoa': 1, 'ĠTV': 1, '?!?': 1, 'Ġcorded': 1, 'Ġfreedom': 1, 'Ġpassed': 1, 'Ġmark': 1, 'Ġshows': 1, 'Ġsigns': 1, 'Ġ100': 1, '%': 1, 'Ġfunctional': 1, 'Other': 1, 'Ġsoft': 1, 'Ġtight': 1, 'Ġcut': 2, 'Ġshape': 1, 'Ġcopier': 1, 'Ġwaiting': 1, 'Ġsizes': 2, 'Ġsent': 1, 'Ġanywhere': 1, 'Arrived': 1, 'Ġsold': 1, 'Ġunits': 1, 'ĠPros': 1, 'Provides': 1, 'Ġclassy': 1, 'Krussel': 1, 'ĠAlways': 1, 'Ġtracfonewebsite': 1, 'Ġtoactivate': 1, 'Couldn': 2, 'ĠTexas': 1, 'Ġdit': 1, 'Ġ5320': 1, 'Bought': 1, 'Ġmainly': 1, 'Ġsoon': 1, 'Ġwhatever': 1, 'Ġnext': 2, 'stay': 1, 'Ġcareful': 1, 'ĠBlueAnt': 1, 'ĠSupertooth': 1, 'free': 1, 'ĠAWESOME': 1, 'ĠItem': 1, 'ĠMetro': 1, 'ĠPCS': 1, 'ĠSCH': 1, 'r': 1, '450': 1, 'Ġslider': 1, 'ĠSony': 1, 'ĠPremium': 1, 'Ġplugs': 1, 'Ġplenty': 1, 'Ġcapacity': 1, 'Ġconfortable': 1, 'Ġsomewhat': 1, 'Ġperiods': 1, 'disappointing': 1, 'Blue': 1, 'ĠAnt': 1, 'Cheap': 1, 'Ġhey': 1, 'Ġpleasantly': 1, 'Ġsuprised': 1, 'Ġcost': 1, 'Ġdustpan': 1, 'Ġindoors': 1, 'Ġdisposable': 1, 'Ġpuff': 1, 'Ġsmoke': 1, 'Ġconvenient': 1, 'Ġride': 1, 'Ġsmoother': 1, 'Ġnano': 1, 'Ġson': 1, 'Ġdissapointed': 1, 'Would': 2, 'Ġreccommend': 1, 'Ġcarries': 1, 'Ġhighest': 1, 'Ġanti': 1, 'glare': 1, 'Ġprotector': 2, 'Ġdate': 2, 'Just': 4, 'Ġsmartphone': 1, 'wont': 1, 'Ġatleast': 1, 'in': 1, 'Ġaddition': 1, 'amp': 1, 'Ġreoccure': 1, 'Bottom': 1, 'Ġsomewhere': 1, 'Ġelse': 1, 'Crisp': 1, 'ĠClear': 1, 'AFter': 1, 'Ġ12': 1, 'Ġcreaks': 1, 'Ġwooden': 1, 'Ġfloor': 1, 'Ġapartment': 1, 'Ġgenerally': 1, 'Ġinconspicuous': 1, 'Ġboot': 1, 'WORTHWHILE': 1, 'Ġslowly': 1, 'Ġsorry': 1, 'Ġhoping': 1, 'Ġimpossible': 1, 'Treo': 1, 'ĠT': 2, 'Ġrefused': 1, 'Ġupgrade': 1, 'Ġdiscount': 1, 'Ġsecurly': 1, 'Ġpossibility': 1, 'Ġdouble': 1, 'Ġbooking': 1, 'Ġbreak': 3, 'Ġentertainment': 1, 'Ġcommunication': 1, 'Ġmanagement': 1, 'ĠActiveSync': 1, 'Ġoptimal': 1, 'Ġsynchronization': 1, 'Ġdisgusting': 1, 'NOT': 1, 'ĠWHAT': 1, 'ĠWANTED': 1, 'Ġcoupon': 1, 'Ġrare': 1, 'Ġinstance': 1, 'Perfect': 1, 'ĠPS': 1, 'Five': 1, 'ĠPlus': 1, 'Ġplus': 1, 'Ġcheapy': 1, 'ĠBig': 1, 'ĠLots': 1, 'Ġsounded': 2, '$': 1, 'ĠDown': 1, 'Ġtalking': 1, 'Ġshouting': 1, 'Ġtelephone': 1, 'Yes': 1, 'Ġshiny': 1, 'ĠWork': 2, 'At': 1, 'Ġgrtting': 1, '44': 1, 'Ġuntil': 1, 'V': 1, 'Ġthumbs': 1, 'Ġtogether': 2, 'Ġexceeds': 1, 'Ġfeet': 2, 'Ġsight': 1, 'Improper': 1, '#': 1, 'Ġ#': 1, 'ĠComfortable': 1, 'life': 1, 'ĠEarGels': 1, 'Ġchecked': 1, 'Ġeverywhere': 1, 'Ġexactly': 1, 'Plan': 1, 'Ġordering': 1, 'Ġeffects': 1, 'this': 1, 'ĠPalms': 1, 'Awkward': 1, 'Ġhoped': 1, 'dont': 1, 'Ġfather': 1, '265': 1, 'Ġpads': 1, 'Ġeasily': 5, 'Ġstops': 1, 'Ġintermittently': 1, 'Reaching': 1, 'Ġbottom': 1, 'Ġrow': 1, 'Ġsend': 2, 'Ġkeys': 1, 'Ġnightmare': 1, 'Ġdescribe': 1, 'ĠDISAPPOINTING': 1, 'ĠSPEAKERPHONE': 1, 'Terrible': 3, 'Ġcassette': 1, 'Ġcurrent': 2, 'Ġcellphones': 1, 'Ġplanning': 1, 'Ġsays': 2, 'Stay': 1, 'ĠAway': 1, 'ĠFrom': 1, 'Used': 1, 'Ġdirty': 1, 'mobile': 1, 'answer': 1, 'Ġread': 1, 'Ġhaven': 1, 'Ġproducts': 1, 'Ġsensor': 1, 'ĠReliability': 1, '!)': 1, 'Ġbeeping': 1, 'Ġletting': 1, 'Ġdieing': 1, 'Last': 1, 'Ġlaptop': 2, 'ĠIR': 1, 'Ġcancellation': 1, 'ĠCounterfeit': 1, 'Ġsee': 1, 'Ġtravled': 1, 'Ġswivel': 1, 'Ġsister': 1, 'Ġdual': 1, 'purpose': 1, 'Ġcingular': 1, 'Ġ8125': 1, 'Ġkeeping': 1, 'Ġinside': 2, 'Ġbottowm': 1, 'another': 1, 'Ġgimmick': 1, 'ĠSprint': 1, 'Having': 1, 'WARNING': 1, 'Ġiphone': 1, 'Ġopens': 1, 'Ġtop': 1, 'Ġcausing': 1, 'Ġdiscomfort': 1, '!!!.': 1, 'Ġtrust': 1, 'Glad': 1, 'Ġmaintains': 1, 'Ġflawless': 1, 'Ġduring': 1, 'Ġnormal': 2, 'Ġmaking': 2, 'Fits': 1, 'ĠReception': 1, 'ĠHigh': 1, 'ĠChinese': 1, '!!!!!!': 1, 'Ġfails': 2, 'Ġdevices': 1, 'Ġutterly': 1, 'Ġconfusing': 1, 'Ġlose': 2, 'Ġholder': 1, 'Ġcutouts': 1, 'Ġland': 1, 'line': 1, 'Problem': 1, 'Ġloops': 1, 'Ġmaterial': 1, 'ĠAMAZON': 1, 'Ġflaws': 1, 'Ġexceptional': 1, 'Ġowning': 1, 'Ġofficial': 1, 'ĠOEM': 1, 'Ġloudest': 1, 'Ġsetting': 1, 'Seller': 1, 'Ġcompetitors': 1, 'Ġshow': 1, 'Ġsaved': 1, 'Ġalot': 1, 'Ġcuts': 1, 'Ġbeep': 3, 'ĠOK': 2, 'Ġtotally': 1, 'Ġunintelligible': 1, 'Ġword': 1, 'Ġrestart': 1, 'While': 1, 'Ġmanaged': 1, 'Ġbend': 1, 'Ġleaf': 1, 'Ġmetal': 1, 'Ġstress': 1, 'Leopard': 1, 'ĠPrint': 1, 'Ġwonderfully': 1, 'Ġwild': 1, 'Saggy': 1, 'Ġfloppy': 1, 'much': 1, 'Happy': 1, 'cool': 1, 'Ġlooses': 1, 'but': 1, 'Makes': 1, 'PRETTY': 1, 'Never': 1, '!!!!!': 1, 'wise': 1, '[...]': 1, 'Ġsnap': 1, 'ATT': 1, 'Ġ8525': 1, 'Ġcarry': 1, 'Ġfliptop': 1, 'Ġloose': 1, 'Ġwobbly': 1, 'Ġeventually': 1, 'Ġreceive': 1, 'Ġseat': 1, 'Ġfulfills': 1, 'Ġrequirements': 1, 'Logitech': 1, 'Ġfact': 1, 'Ġrests': 1, 'Ġlightly': 1, 'Ġagainst': 1, 'Ġwebsites': 1, 'Ġrating': 1, 'Ġcables': 1, 'Ġlap': 1, 'Ġcontrols': 1, 'Ġaccessable': 1, 'Ġmine': 1, 'ĠChristmas': 1, 'Ġrest': 1, 'Otherwise': 1, 'nice': 1, 'Ġjoy': 1, 'Ġsatisifed': 1, 'Ġ2005': 1, '710': 1, 'ĠWOW': 2, 'Buttons': 1, 'Ġspecs': 1, 'Ġarmband': 1, 'Ġallot': 1, 'Ġclearer': 1, 'Ġkeypads': 1, 'Ġreach': 1, 'Ġericson': 1, 'Ġz': 1, 'Ġmotor': 1, 'Ġcontrol': 1, 'Ġcenter': 1, 'Ġvoltage': 1, 'Ġhumming': 1, 'Ġequipment': 1, 'Ġcertain': 1, 'Ġplaces': 1, 'however': 1, 'Ġgirl': 1, 'Ġcomplain': 1, 'Ġwake': 1, 'Beautiful': 1, 'Ġstyling': 1, 'Ġrestocking': 1, 'Ġfee': 1, 'Ġdarn': 1, 'Earbud': 1, 'Lousy': 1, 'Ġseen': 1, 'SWEETEST': 1, ':-)': 1, 'Ġsecurely': 1, 'Ġhook': 1, 'Ġdirected': 1, 'Ġcanal': 1, 'Echo': 1, 'ĠProblem': 1, 'Ġunsatisfactory': 1, 'Ġvideos': 1, 'Ġnegatively': 1, 'Adapter': 1, 'Ġprovide': 1, 'Ġhype': 1, 'Ġassumed': 1, 'Ġlense': 1, 'Ġcovered': 1, 'Ġfalls': 1, 'Ġtext': 1, 'Ġmessaging': 1, 'Ġtricky': 1, 'Painful': 1, 'Lasted': 1, 'Ġblew': 1, 'disappointed': 1, 'Kind': 1, 'Ġflops': 1, 'Ġsmudged': 1, 'Ġtouches': 1, 'Item': 1, 'ĠDoes': 1, 'ĠMatch': 1, 'ĠPicture': 1, 'Ġdisappoint': 1, 'Ġinfra': 1, 'Ġred': 1, 'Ġport': 1, 'irda': 1, 'Ġanswer': 1})\n"
     ]
    }
   ],
   "source": [
    "from collections import defaultdict\n",
    "\n",
    "word_freqs = defaultdict(int)\n",
    "\n",
    "for text in corpus:\n",
    "    words_with_offsets = tokenizer.backend_tokenizer.pre_tokenizer.pre_tokenize_str(text)\n",
    "    new_words = [word for word, offset in words_with_offsets]\n",
    "    for word in new_words:\n",
    "        word_freqs[word] += 1\n",
    "\n",
    "print(word_freqs)"
   ]
  },
  {
   "cell_type": "code",
   "execution_count": null,
   "id": "e96f66ab",
   "metadata": {},
   "outputs": [],
   "source": [
    "# Let's see what pre_tokenize_str actually does\n",
    "sample_text = \"Hello, world! This is a test.\"\n",
    "words_with_offsets = tokenizer.backend_tokenizer.pre_tokenizer.pre_tokenize_str(sample_text)\n",
    "\n",
    "print(\"Original text:\", sample_text)\n",
    "print(\"\\nPre-tokenization result:\")\n",
    "for word, offset in words_with_offsets:\n",
    "    print(f\"Word: '{word}' | Offset: {offset}\")\n",
    "    \n",
    "# Extract just the words (without offsets)\n",
    "new_words = [word for word, offset in words_with_offsets]\n",
    "print(\"\\nJust the words:\", new_words)"
   ]
  },
  {
   "cell_type": "code",
   "execution_count": null,
   "id": "086a1b0f",
   "metadata": {},
   "outputs": [
    {
     "name": "stdout",
     "output_type": "stream",
     "text": [
      "['!', '\"', '#', '$', '%', '&', \"'\", '(', ')', '*', '+', ',', '-', '.', '/', '0', '1', '2', '3', '4', '5', '6', '7', '8', '9', ':', ';', '?', 'A', 'B', 'C', 'D', 'E', 'F', 'G', 'H', 'I', 'J', 'K', 'L', 'M', 'N', 'O', 'P', 'Q', 'R', 'S', 'T', 'U', 'V', 'W', 'X', 'Y', 'Z', '[', ']', 'a', 'b', 'c', 'd', 'e', 'f', 'g', 'h', 'i', 'j', 'k', 'l', 'm', 'n', 'o', 'p', 'q', 'r', 's', 't', 'u', 'v', 'w', 'x', 'y', 'z', 'Ġ']\n"
     ]
    }
   ],
   "source": [
    "alphabet = []\n",
    "\n",
    "for word in word_freqs.keys():\n",
    "    for letter in word:\n",
    "        if letter not in alphabet:\n",
    "            alphabet.append(letter)\n",
    "alphabet.sort()\n",
    "\n",
    "print(alphabet)"
   ]
  },
  {
   "cell_type": "code",
   "execution_count": null,
   "id": "c17c45b4",
   "metadata": {},
   "outputs": [],
   "source": [
    "vocab = [\"<|endoftext|>\"] + alphabet.copy() # the initial vocab contains only the ascii characters (only those present in the corpus) and the special token <|endoftext|>\n",
    "# <|endoftext|> this token is unique to gpt2 tokenizer. It is used to indicate the end of a text sequence."
   ]
  },
  {
   "cell_type": "code",
   "execution_count": null,
   "id": "83c2b24d",
   "metadata": {},
   "outputs": [],
   "source": [
    "# this is required for creating the merges.\n",
    "splits = {word: [c for c in word] for word in word_freqs.keys()}"
   ]
  },
  {
   "cell_type": "code",
   "execution_count": null,
   "id": "dc1d3b8e",
   "metadata": {},
   "outputs": [],
   "source": [
    "def compute_pair_freqs(splits):\n",
    "    pair_freqs = defaultdict(int)\n",
    "    for word, freq in word_freqs.items():\n",
    "        split = splits[word]\n",
    "        if len(split) == 1:\n",
    "            continue\n",
    "        for i in range(len(split) - 1):\n",
    "            pair = (split[i], split[i + 1])\n",
    "            pair_freqs[pair] += freq\n",
    "    return pair_freqs"
   ]
  },
  {
   "cell_type": "code",
   "execution_count": null,
   "id": "a07d4436",
   "metadata": {},
   "outputs": [
    {
     "name": "stdout",
     "output_type": "stream",
     "text": [
      "('S', 'o'): 18\n",
      "('Ġ', 't'): 1160\n",
      "('t', 'h'): 1045\n",
      "('h', 'e'): 807\n",
      "('e', 'r'): 656\n",
      "('r', 'e'): 551\n"
     ]
    }
   ],
   "source": [
    "pair_freqs = compute_pair_freqs(splits)\n",
    "\n",
    "for i, key in enumerate(pair_freqs.keys()):\n",
    "    print(f\"{key}: {pair_freqs[key]}\")\n",
    "    if i >= 5:\n",
    "        break"
   ]
  },
  {
   "cell_type": "code",
   "execution_count": null,
   "id": "502d93f7",
   "metadata": {},
   "outputs": [
    {
     "name": "stdout",
     "output_type": "stream",
     "text": [
      "('Ġ', 't') 1160\n"
     ]
    }
   ],
   "source": [
    "best_pair = \"\"\n",
    "max_freq = None\n",
    "\n",
    "for pair, freq in pair_freqs.items():\n",
    "    if max_freq is None or max_freq < freq:\n",
    "        best_pair = pair\n",
    "        max_freq = freq\n",
    "\n",
    "print(best_pair, max_freq)"
   ]
  },
  {
   "cell_type": "code",
   "execution_count": null,
   "id": "e6e47d3a",
   "metadata": {},
   "outputs": [],
   "source": [
    "# a and b are the two characters to be merged\n",
    "def merge_pair(a, b, splits):\n",
    "    for word in word_freqs:\n",
    "        split = splits[word]\n",
    "        if len(split) == 1:\n",
    "            continue\n",
    "\n",
    "        i = 0\n",
    "        # the while loop merges all occurences of the pair (a, b) in the splits dictionary\n",
    "        while i < len(split) - 1:\n",
    "            if split[i] == a and split[i + 1] == b:\n",
    "                split = split[:i] + [a + b] + split[i + 2 :]\n",
    "            else:\n",
    "                i += 1\n",
    "        splits[word] = split\n",
    "    return splits"
   ]
  },
  {
   "cell_type": "code",
   "execution_count": null,
   "id": "1d79f86d",
   "metadata": {},
   "outputs": [
    {
     "name": "stdout",
     "output_type": "stream",
     "text": [
      "84 2409\n"
     ]
    }
   ],
   "source": [
    "# based on the current length, let's try to create a vocab of size 250\n",
    "print(len(vocab), len(splits))"
   ]
  },
  {
   "cell_type": "code",
   "execution_count": null,
   "id": "1f34f130",
   "metadata": {},
   "outputs": [],
   "source": [
    "vocab_size = 500\n",
    "merges = {}\n",
    "\n",
    "while len(vocab) < vocab_size:\n",
    "    pair_freqs = compute_pair_freqs(splits)\n",
    "    best_pair = \"\"\n",
    "    max_freq = None\n",
    "    for pair, freq in pair_freqs.items():\n",
    "        if max_freq is None or max_freq < freq:\n",
    "            best_pair = pair\n",
    "            max_freq = freq\n",
    "    splits = merge_pair(*best_pair, splits)\n",
    "    merges[best_pair] = best_pair[0] + best_pair[1]\n",
    "    vocab.append(best_pair[0] + best_pair[1])"
   ]
  },
  {
   "cell_type": "code",
   "execution_count": null,
   "id": "28e30536",
   "metadata": {},
   "outputs": [
    {
     "name": "stdout",
     "output_type": "stream",
     "text": [
      "{('Ġ', 't'): 'Ġt', ('Ġ', 'a'): 'Ġa', ('h', 'e'): 'he', ('Ġ', 'i'): 'Ġi', ('o', 'n'): 'on', ('Ġ', 'w'): 'Ġw', ('e', 'r'): 'er', ('r', 'e'): 're', ('Ġ', 'p'): 'Ġp', ('n', 'd'): 'nd', ('Ġt', 'he'): 'Ġthe', ('Ġ', 's'): 'Ġs', ('Ġ', 'c'): 'Ġc', ('o', 'r'): 'or', ('i', 'n'): 'in', ('h', 'a'): 'ha', ('o', 'u'): 'ou', ('Ġ', 'b'): 'Ġb', ('Ġ', 'f'): 'Ġf', ('Ġ', 'm'): 'Ġm', ('Ġa', 'nd'): 'Ġand', ('l', 'e'): 'le', ('i', 't'): 'it', ('s', 'e'): 'se', ('on', 'e'): 'one', ('i', 's'): 'is', ('c', 'e'): 'ce', ('l', 'l'): 'll', ('in', 'g'): 'ing', ('Ġi', 't'): 'Ġit', ('a', 't'): 'at', ('Ġ', 'd'): 'Ġd', ('Ġi', 's'): 'Ġis', ('Ġ', 'e'): 'Ġe', ('a', 'r'): 'ar', ('o', 't'): 'ot', ('Ġt', 'o'): 'Ġto', ('Ġ', 'g'): 'Ġg', ('Ġ', 'n'): 'Ġn', ('h', 'is'): 'his', ('s', 't'): 'st', ('Ġ', 'ha'): 'Ġha', ('Ġ', 'I'): 'ĠI', ('v', 'e'): 've', ('Ġ', 'l'): 'Ġl', ('h', 'one'): 'hone', ('v', 'er'): 'ver', ('e', 'd'): 'ed', ('r', 'o'): 'ro', ('Ġ', 'o'): 'Ġo', ('Ġp', 'hone'): 'Ġphone', ('m', 'e'): 'me', ('n', 't'): 'nt', ('c', 't'): 'ct', ('l', 'y'): 'ly', ('Ġ', 're'): 'Ġre', ('Ġt', 'his'): 'Ġthis', ('a', 's'): 'as', ('Ġ', 'u'): 'Ġu', ('Ġo', 'f'): 'Ġof', ('a', 'l'): 'al', ('Ġb', 'e'): 'Ġbe', ('e', 's'): 'es', ('Ġm', 'y'): 'Ġmy', ('o', 'o'): 'oo', ('Ġw', 'it'): 'Ġwit', ('Ġwit', 'h'): 'Ġwith', ('Ġf', 'or'): 'Ġfor', ('T', 'he'): 'The', ('a', 'd'): 'ad', ('Ġc', 'a'): 'Ġca', ('Ġi', 'n'): 'Ġin', ('or', 'k'): 'ork', ('Ġ', 'on'): 'Ġon', ('o', 'm'): 'om', ('r', 'i'): 'ri', ('b', 'le'): 'ble', ('t', 'er'): 'ter', ('Ġ', 'y'): 'Ġy', ('Ġt', 'ha'): 'Ġtha', ('e', 't'): 'et', ('Ġn', 'ot'): 'Ġnot', ('ver', 'y'): 'very', ('re', 'at'): 'reat', ('g', 'h'): 'gh', ('l', 'd'): 'ld', ('.', '.'): '..', ('Ġw', 'ork'): 'Ġwork', ('Ġw', 'as'): 'Ġwas', ('u', 't'): 'ut', ('Ġp', 'ro'): 'Ġpro', ('k', 'e'): 'ke', ('Ġy', 'ou'): 'Ġyou', ('l', 'a'): 'la', ('Ġ', 'he'): 'Ġhe', ('i', 'c'): 'ic', ('o', 'w'): 'ow', ('oo', 'd'): 'ood', ('a', 'll'): 'all', ('i', 'on'): 'ion', ('Ġ', 'very'): 'Ġvery', ('Ġtha', 't'): 'Ġthat', ('Ġw', 'e'): 'Ġwe', ('i', 'ce'): 'ice', ('I', 't'): 'It', (\"'\", 't'): \"'t\", ('p', 'p'): 'pp', ('Ġs', 't'): 'Ġst', ('Ġha', 've'): 'Ġhave', ('Ġ', 'h'): 'Ġh', ('ou', 'ld'): 'ould', ('Ġg', 'reat'): 'Ġgreat', ('u', 'ct'): 'uct', ('e', 'n'): 'en', ('q', 'u'): 'qu', ('r', 'a'): 'ra', ('ou', 'nd'): 'ound', ('it', 'y'): 'ity', ('Ġu', 'se'): 'Ġuse', ('Ġ', 'qu'): 'Ġqu', ('Ġg', 'ood'): 'Ġgood', ('l', 'u'): 'lu', ('gh', 't'): 'ght', ('c', 'k'): 'ck', ('Ġhe', 'ad'): 'Ġhead', ('se', 't'): 'set', ('u', 'r'): 'ur', ('i', 'd'): 'id', ('Ġs', 'o'): 'Ġso', ('or', 't'): 'ort', ('ou', 't'): 'out', ('a', 'y'): 'ay', ('Ġc', 'om'): 'Ġcom', ('d', 'uct'): 'duct', ('ha', 'r'): 'har', ('Ġe', 'x'): 'Ġex', ('Ġe', 'ar'): 'Ġear', ('Ġa', 'n'): 'Ġan', ('T', 'his'): 'This', ('Ġl', 'i'): 'Ġli', ('all', 'y'): 'ally', ('Ġhead', 'set'): 'Ġheadset', ('Ġpro', 'duct'): 'Ġproduct', ('al', 'ity'): 'ality', ('Ġc', 'har'): 'Ġchar', ('!', '!'): '!!', ('Ġt', 'h'): 'Ġth', ('Ġb', 'ut'): 'Ġbut', ('at', 'ter'): 'atter', ('Ġha', 'd'): 'Ġhad', ('g', 'e'): 'ge', ('Ġd', 'o'): 'Ġdo', ('atter', 'y'): 'attery', ('Ġa', 's'): 'Ġas', ('a', 'st'): 'ast', ('he', 'r'): 'her', ('Ġa', 're'): 'Ġare', ('Ġqu', 'ality'): 'Ġquality', ('i', 'r'): 'ir', ('e', 'ct'): 'ect', ('Ġ', 'P'): 'ĠP', ('c', 'h'): 'ch', (\"'\", 's'): \"'s\", ('Ġn', 'e'): 'Ġne', ('i', 'g'): 'ig', ('Ġm', 'a'): 'Ġma', ('Ġs', 'e'): 'Ġse', ('Ġs', 'ound'): 'Ġsound', ('p', 't'): 'pt', ('s', 's'): 'ss', ('Ġd', 'e'): 'Ġde', ('Ġ', 'one'): 'Ġone', ('a', 'ble'): 'able', ('Ġ', 'or'): 'Ġor', ('u', 'st'): 'ust', ('Ġa', 'll'): 'Ġall', ('Ġwe', 'll'): 'Ġwell', ('Ġc', 'on'): 'Ġcon', ('u', 'l'): 'ul', ('i', 'me'): 'ime', ('l', 's'): 'ls', ('Ġm', 'e'): 'Ġme', ('Ġ', 'j'): 'Ġj', ('v', 'ice'): 'vice', ('u', 'n'): 'un', ('!', '.'): '!.', ('f', 'ort'): 'fort', ('Ġre', 'c'): 'Ġrec', ('Ġf', 'e'): 'Ġfe', ('in', 't'): 'int', ('m', 'p'): 'mp', ('ro', 'm'): 'rom', ('i', 've'): 'ive', ('Ġw', 'h'): 'Ġwh', ('Ġ', 'S'): 'ĠS', ('Ġw', 'ould'): 'Ġwould', ('Ġca', 'se'): 'Ġcase', ('o', 're'): 'ore', ('se', 'd'): 'sed', ('Ġb', 'attery'): 'Ġbattery', ('Ġha', 's'): 'Ġhas', ('u', 're'): 'ure', ('Ġp', 'ri'): 'Ġpri', ('G', 'reat'): 'Great', ('Ġu', 'p'): 'Ġup', ('Ġt', 'ime'): 'Ġtime', ('Ġf', 'rom'): 'Ġfrom', ('Ġan', 'y'): 'Ġany', ('t', 'h'): 'th', ('Ġyou', 'r'): 'Ġyour', ('Ġwork', 's'): 'Ġworks', ('i', 'll'): 'ill', ('Ġchar', 'g'): 'Ġcharg', ('me', 'nd'): 'mend', ('ot', 'h'): 'oth', ('Ġpri', 'ce'): 'Ġprice', ('Ġg', 'et'): 'Ġget', ('l', 'i'): 'li', ('Ġca', 'n'): 'Ġcan', ('Ġli', 'ke'): 'Ġlike', ('Ġl', 'o'): 'Ġlo', ('oo', 'k'): 'ook', ('a', 'n'): 'an', ('Ġdo', 'es'): 'Ġdoes', ('le', 'nt'): 'lent', ('Ġ', 'v'): 'Ġv', ('in', 'e'): 'ine', ('om', 'mend'): 'ommend', ('Ġ', 'B'): 'ĠB', ('on', 'g'): 'ong', (\"'\", 've'): \"'ve\", ('Ġcom', 'p'): 'Ġcomp', ('Ġu', 'n'): 'Ġun', ('Ġtha', 'n'): 'Ġthan', ('Ġrec', 'ommend'): 'Ġrecommend', ('Ġa', 'b'): 'Ġab', ('i', 'le'): 'ile', ('Ġ', 'out'): 'Ġout', ('Ġb', 'u'): 'Ġbu', ('e', 'm'): 'em', ('Ġ', '-'): 'Ġ-', ('Ġre', 'ce'): 'Ġrece', ('i', 'e'): 'ie', ('le', 'ss'): 'less', ('ce', 'l'): 'cel', ('cel', 'lent'): 'cellent', ('Ġw', 'he'): 'Ġwhe', ('Ġa', 't'): 'Ġat', ('a', 'in'): 'ain', ('o', 'l'): 'ol', ('Ġ', 'A'): 'ĠA', ('Ġ', '2'): 'Ġ2', ('i', 'f'): 'if', ('Ġn', 'o'): 'Ġno', ('ha', 't'): 'hat', ('V', 'er'): 'Ver', ('Ġ', 'D'): 'ĠD', ('Ġ', 'N'): 'ĠN', ('c', 'ha'): 'cha', ('o', 'p'): 'op', ('a', 'nt'): 'ant', ('Ġs', 'er'): 'Ġser', ('it', 'e'): 'ite', ('Ġc', 'ould'): 'Ġcould', ('ot', 'her'): 'other', ('ble', 'm'): 'blem', ('Ġs', 'h'): 'Ġsh', ('Ġ', 'C'): 'ĠC', ('o', 'int'): 'oint', ('e', 'll'): 'ell', ('a', 'b'): 'ab', ('Ġa', 'm'): 'Ġam', ('Ġp', 'la'): 'Ġpla', ('Ġd', 'id'): 'Ġdid', ('f', 'ter'): 'fter', ('Ġe', 'as'): 'Ġeas', ('a', 'p'): 'ap', ('Ġ', '('): 'Ġ(', ('Ġd', 'is'): 'Ġdis', ('pt', 'ion'): 'ption', ('me', 'nt'): 'ment', ('Ġcharg', 'er'): 'Ġcharger', ('ig', 'n'): 'ign', ('Ġ', 'r'): 'Ġr', ('Ġpro', 'blem'): 'Ġproblem', ('Ġc', 'ar'): 'Ġcar', ('e', 'ar'): 'ear', ('Ġto', 'o'): 'Ġtoo', ('Ġre', 'ally'): 'Ġreally', ('Ġl', 'ook'): 'Ġlook', ('a', 'ck'): 'ack', (\"'\", 'm'): \"'m\", ('ls', 'o'): 'lso', ('Ġf', 'it'): 'Ġfit', ('ou', 'gh'): 'ough', ('fort', 'able'): 'fortable', ('Ġ', 'M'): 'ĠM', ('a', 'k'): 'ak', ('Ġon', 'ly'): 'Ġonly', ('o', 'oth'): 'ooth', ('Ġp', 'ur'): 'Ġpur', ('u', 'se'): 'use', ('Ġser', 'vice'): 'Ġservice', ('Ġwhe', 'n'): 'Ġwhen', ('ar', 't'): 'art', ('Ġd', 'es'): 'Ġdes', ('W', 'ork'): 'Work', ('ou', 'ght'): 'ought', ('o', 'or'): 'oor', ('Ġ', 'T'): 'ĠT', ('lu', 'et'): 'luet', ('a', 'pp'): 'app', ('Ġha', 'pp'): 'Ġhapp', ('c', 'a'): 'ca', ('s', 'ing'): 'sing', ('Ġca', 'll'): 'Ġcall', ('Ġm', 'one'): 'Ġmone', ('Ġmone', 'y'): 'Ġmoney', ('Ġi', 'mp'): 'Ġimp', ('p', 'er'): 'per', ('Ġlo', 've'): 'Ġlove', ('m', 'er'): 'mer', ('ir', 'st'): 'irst', ('Ġ', 'ke'): 'Ġke', ('luet', 'ooth'): 'luetooth', ('Ġbu', 'y'): 'Ġbuy', ('app', 'oint'): 'appoint', ('ve', 'n'): 'ven', ('Ġpur', 'cha'): 'Ġpurcha', ('Ġbe', 't'): 'Ġbet', ('Ġs', 'a'): 'Ġsa', ('at', 'ion'): 'ation', ('Ġm', 'ore'): 'Ġmore', ('Ġv', 'o'): 'Ġvo', ('..', '.'): '...', ('Ver', 'y'): 'Very', ('E', 'R'): 'ER', ('i', 'nd'): 'ind', ('Ġbe', 'st'): 'Ġbest', ('p', 'e'): 'pe', ('ur', 'n'): 'urn', ('Ġab', 'out'): 'Ġabout', ('Ġs', 'u'): 'Ġsu', ('Ġf', 'a'): 'Ġfa', ('ca', 'use'): 'cause', ('ie', 'ce'): 'iece', ('c', 're'): 'cre', ('at', 'e'): 'ate', ('Ġg', 'o'): 'Ġgo', ('t', 'e'): 'te', ('Ġi', 'nt'): 'Ġint', ('i', 're'): 'ire', ('Ġa', 'g'): 'Ġag', ('Ġne', 'w'): 'Ġnew', ('p', 'hone'): 'phone', ('Ġ', 'le'): 'Ġle', ('Ġj', 'ust'): 'Ġjust', ('Ġe', 'ven'): 'Ġeven', ('Ġof', 'f'): 'Ġoff', ('Ġa', 'fter'): 'Ġafter', ('Ġbe', 'cause'): 'Ġbecause', ('o', 'me'): 'ome', ('Ġit', 'em'): 'Ġitem', ('Ġwork', 'ed'): 'Ġworked', ('i', 'z'): 'iz', ('ri', 'ble'): 'rible', ('Ġe', 'ver'): 'Ġever', ('Ġ', 'E'): 'ĠE', ('Ġb', 'ought'): 'Ġbought', ('re', 'e'): 'ree', ('Ġn', 'ow'): 'Ġnow', ('Ġy', 'ear'): 'Ġyear', ('Ġf', 'irst'): 'Ġfirst', ('er', 'f'): 'erf', ('ad', 'e'): 'ade', ('Ġe', 'n'): 'Ġen', ('th', 'ing'): 'thing', ('ou', 's'): 'ous', ('Ġbet', 'ter'): 'Ġbetter', ('Ġa', 'lso'): 'Ġalso', ('Ġd', 'on'): 'Ġdon', ('Ġc', 'ell'): 'Ġcell', ('Ġthe', 'se'): 'Ġthese', ('Ġi', 'f'): 'Ġif', ('Ġthe', 're'): 'Ġthere', ('Ġp', 'lu'): 'Ġplu', ('G', 'ood'): 'Good', ('Ġ', 'ri'): 'Ġri', ('Ġ', 'R'): 'ĠR', ('a', 'z'): 'az', ('Ġw', 'ast'): 'Ġwast', ('i', 'gh'): 'igh', ('Work', 's'): 'Works', ('ot', 'or'): 'otor', ('o', 'st'): 'ost', ('ay', 's'): 'ays', ('a', 'ge'): 'age', ('le', 'ar'): 'lear', ('Ġ', 'W'): 'ĠW', ('Ġth', 'ing'): 'Ġthing', ('Ġbe', 'en'): 'Ġbeen', ('Ġ', 'other'): 'Ġother', ('ic', 'h'): 'ich', ('Ġe', 'very'): 'Ġevery', ('a', 're'): 'are', ('Ġrece', 'ption'): 'Ġreception', ('Ġa', 'l'): 'Ġal', ('p', 'la'): 'pla', ('Ġg', 'ot'): 'Ġgot', ('Ġuse', 'd'): 'Ġused', ('Ġo', 'ver'): 'Ġover', ('Ġplu', 'g'): 'Ġplug', ('x', 'cellent'): 'xcellent', ('Ġthe', 'n'): 'Ġthen', ('Ġ', '5'): 'Ġ5', ('Ġa', 'd'): 'Ġad'}\n"
     ]
    }
   ],
   "source": [
    "print(merges) # Ġ is used to denote a space for the gpt2 tokenizer"
   ]
  },
  {
   "cell_type": "code",
   "execution_count": null,
   "id": "01bf15f5",
   "metadata": {},
   "outputs": [
    {
     "name": "stdout",
     "output_type": "stream",
     "text": [
      "['<|endoftext|>', '!', '\"', '#', '$', '%', '&', \"'\", '(', ')', '*', '+', ',', '-', '.', '/', '0', '1', '2', '3', '4', '5', '6', '7', '8', '9', ':', ';', '?', 'A', 'B', 'C', 'D', 'E', 'F', 'G', 'H', 'I', 'J', 'K', 'L', 'M', 'N', 'O', 'P', 'Q', 'R', 'S', 'T', 'U', 'V', 'W', 'X', 'Y', 'Z', '[', ']', 'a', 'b', 'c', 'd', 'e', 'f', 'g', 'h', 'i', 'j', 'k', 'l', 'm', 'n', 'o', 'p', 'q', 'r', 's', 't', 'u', 'v', 'w', 'x', 'y', 'z', 'Ġ', 'Ġt', 'Ġa', 'he', 'Ġi', 'on', 'Ġw', 'er', 're', 'Ġp', 'nd', 'Ġthe', 'Ġs', 'Ġc', 'or', 'in', 'ha', 'ou', 'Ġb', 'Ġf', 'Ġm', 'Ġand', 'le', 'it', 'se', 'one', 'is', 'ce', 'll', 'ing', 'Ġit', 'at', 'Ġd', 'Ġis', 'Ġe', 'ar', 'ot', 'Ġto', 'Ġg', 'Ġn', 'his', 'st', 'Ġha', 'ĠI', 've', 'Ġl', 'hone', 'ver', 'ed', 'ro', 'Ġo', 'Ġphone', 'me', 'nt', 'ct', 'ly', 'Ġre', 'Ġthis', 'as', 'Ġu', 'Ġof', 'al', 'Ġbe', 'es', 'Ġmy', 'oo', 'Ġwit', 'Ġwith', 'Ġfor', 'The', 'ad', 'Ġca', 'Ġin', 'ork', 'Ġon', 'om', 'ri', 'ble', 'ter', 'Ġy', 'Ġtha', 'et', 'Ġnot', 'very', 'reat', 'gh', 'ld', '..', 'Ġwork', 'Ġwas', 'ut', 'Ġpro', 'ke', 'Ġyou', 'la', 'Ġhe', 'ic', 'ow', 'ood', 'all', 'ion', 'Ġvery', 'Ġthat', 'Ġwe', 'ice', 'It', \"'t\", 'pp', 'Ġst', 'Ġhave', 'Ġh', 'ould', 'Ġgreat', 'uct', 'en', 'qu', 'ra', 'ound', 'ity', 'Ġuse', 'Ġqu', 'Ġgood', 'lu', 'ght', 'ck', 'Ġhead', 'set', 'ur', 'id', 'Ġso', 'ort', 'out', 'ay', 'Ġcom', 'duct', 'har', 'Ġex', 'Ġear', 'Ġan', 'This', 'Ġli', 'ally', 'Ġheadset', 'Ġproduct', 'ality', 'Ġchar', '!!', 'Ġth', 'Ġbut', 'atter', 'Ġhad', 'ge', 'Ġdo', 'attery', 'Ġas', 'ast', 'her', 'Ġare', 'Ġquality', 'ir', 'ect', 'ĠP', 'ch', \"'s\", 'Ġne', 'ig', 'Ġma', 'Ġse', 'Ġsound', 'pt', 'ss', 'Ġde', 'Ġone', 'able', 'Ġor', 'ust', 'Ġall', 'Ġwell', 'Ġcon', 'ul', 'ime', 'ls', 'Ġme', 'Ġj', 'vice', 'un', '!.', 'fort', 'Ġrec', 'Ġfe', 'int', 'mp', 'rom', 'ive', 'Ġwh', 'ĠS', 'Ġwould', 'Ġcase', 'ore', 'sed', 'Ġbattery', 'Ġhas', 'ure', 'Ġpri', 'Great', 'Ġup', 'Ġtime', 'Ġfrom', 'Ġany', 'th', 'Ġyour', 'Ġworks', 'ill', 'Ġcharg', 'mend', 'oth', 'Ġprice', 'Ġget', 'li', 'Ġcan', 'Ġlike', 'Ġlo', 'ook', 'an', 'Ġdoes', 'lent', 'Ġv', 'ine', 'ommend', 'ĠB', 'ong', \"'ve\", 'Ġcomp', 'Ġun', 'Ġthan', 'Ġrecommend', 'Ġab', 'ile', 'Ġout', 'Ġbu', 'em', 'Ġ-', 'Ġrece', 'ie', 'less', 'cel', 'cellent', 'Ġwhe', 'Ġat', 'ain', 'ol', 'ĠA', 'Ġ2', 'if', 'Ġno', 'hat', 'Ver', 'ĠD', 'ĠN', 'cha', 'op', 'ant', 'Ġser', 'ite', 'Ġcould', 'other', 'blem', 'Ġsh', 'ĠC', 'oint', 'ell', 'ab', 'Ġam', 'Ġpla', 'Ġdid', 'fter', 'Ġeas', 'ap', 'Ġ(', 'Ġdis', 'ption', 'ment', 'Ġcharger', 'ign', 'Ġr', 'Ġproblem', 'Ġcar', 'ear', 'Ġtoo', 'Ġreally', 'Ġlook', 'ack', \"'m\", 'lso', 'Ġfit', 'ough', 'fortable', 'ĠM', 'ak', 'Ġonly', 'ooth', 'Ġpur', 'use', 'Ġservice', 'Ġwhen', 'art', 'Ġdes', 'Work', 'ought', 'oor', 'ĠT', 'luet', 'app', 'Ġhapp', 'ca', 'sing', 'Ġcall', 'Ġmone', 'Ġmoney', 'Ġimp', 'per', 'Ġlove', 'mer', 'irst', 'Ġke', 'luetooth', 'Ġbuy', 'appoint', 'ven', 'Ġpurcha', 'Ġbet', 'Ġsa', 'ation', 'Ġmore', 'Ġvo', '...', 'Very', 'ER', 'ind', 'Ġbest', 'pe', 'urn', 'Ġabout', 'Ġsu', 'Ġfa', 'cause', 'iece', 'cre', 'ate', 'Ġgo', 'te', 'Ġint', 'ire', 'Ġag', 'Ġnew', 'phone', 'Ġle', 'Ġjust', 'Ġeven', 'Ġoff', 'Ġafter', 'Ġbecause', 'ome', 'Ġitem', 'Ġworked', 'iz', 'rible', 'Ġever', 'ĠE', 'Ġbought', 'ree', 'Ġnow', 'Ġyear', 'Ġfirst', 'erf', 'ade', 'Ġen', 'thing', 'ous', 'Ġbetter', 'Ġalso', 'Ġdon', 'Ġcell', 'Ġthese', 'Ġif', 'Ġthere', 'Ġplu', 'Good', 'Ġri', 'ĠR', 'az', 'Ġwast', 'igh', 'Works', 'otor', 'ost', 'ays', 'age', 'lear', 'ĠW', 'Ġthing', 'Ġbeen', 'Ġother', 'ich', 'Ġevery', 'are', 'Ġreception', 'Ġal', 'pla', 'Ġgot', 'Ġused', 'Ġover', 'Ġplug', 'xcellent', 'Ġthen', 'Ġ5', 'Ġad']\n"
     ]
    }
   ],
   "source": [
    "print(vocab)"
   ]
  },
  {
   "cell_type": "code",
   "execution_count": null,
   "id": "4c78225c",
   "metadata": {},
   "outputs": [],
   "source": [
    "# this function can now return tokens for a given sentence\n",
    "def tokenize(text):\n",
    "    pre_tokenize_result = tokenizer._tokenizer.pre_tokenizer.pre_tokenize_str(text)\n",
    "    pre_tokenized_text = [word for word, offset in pre_tokenize_result]\n",
    "    splits = [[l for l in word] for word in pre_tokenized_text]\n",
    "    for pair, merge in merges.items():\n",
    "        for idx, split in enumerate(splits):\n",
    "            i = 0\n",
    "            while i < len(split) - 1:\n",
    "                if split[i] == pair[0] and split[i + 1] == pair[1]:\n",
    "                    split = split[:i] + [merge] + split[i + 2 :]\n",
    "                else:\n",
    "                    i += 1\n",
    "            splits[idx] = split\n",
    "\n",
    "    return sum(splits, [])"
   ]
  },
  {
   "cell_type": "code",
   "execution_count": null,
   "id": "0f2c17c0",
   "metadata": {},
   "outputs": [
    {
     "data": {
      "text/plain": [
       "['This',\n",
       " 'Ġproduct',\n",
       " 'Ġhas',\n",
       " 'Ġwast',\n",
       " 'ed',\n",
       " 'Ġall',\n",
       " 'Ġthe',\n",
       " 'Ġmoney',\n",
       " 'Ġthat',\n",
       " 'Ġi',\n",
       " 'Ġhad',\n",
       " 'Ġear',\n",
       " 'n',\n",
       " 'ed']"
      ]
     },
     "execution_count": 67,
     "metadata": {},
     "output_type": "execute_result"
    }
   ],
   "source": [
    "tokenize(\"This product has wasted all the money that i had earned\")"
   ]
  },
  {
   "cell_type": "code",
   "execution_count": null,
   "id": "93e57c43",
   "metadata": {},
   "outputs": [
    {
     "ename": "ImportError",
     "evalue": "DLL load failed while importing lapack_lite: The specified module could not be found.",
     "output_type": "error",
     "traceback": [
      "\u001b[1;31m---------------------------------------------------------------------------\u001b[0m",
      "\u001b[1;31mImportError\u001b[0m                               Traceback (most recent call last)",
      "Cell \u001b[1;32mIn[72], line 1\u001b[0m\n\u001b[1;32m----> 1\u001b[0m \u001b[38;5;28;01mfrom\u001b[39;00m\u001b[38;5;250m \u001b[39m\u001b[38;5;21;01msklearn\u001b[39;00m\u001b[38;5;21;01m.\u001b[39;00m\u001b[38;5;21;01mfeature_extraction\u001b[39;00m\u001b[38;5;21;01m.\u001b[39;00m\u001b[38;5;21;01mtext\u001b[39;00m\u001b[38;5;250m \u001b[39m\u001b[38;5;28;01mimport\u001b[39;00m TfidfVectorizer\n\u001b[0;32m      3\u001b[0m vectorizer \u001b[38;5;241m=\u001b[39m TfidfVectorizer() \n\u001b[0;32m      4\u001b[0m tfidf_matrix \u001b[38;5;241m=\u001b[39m vectorizer\u001b[38;5;241m.\u001b[39mfit_transform(corpus)\n",
      "File \u001b[1;32mc:\\Anaconda\\envs\\idm-vton\\lib\\site-packages\\sklearn\\__init__.py:73\u001b[0m\n\u001b[0;32m     62\u001b[0m \u001b[38;5;66;03m# `_distributor_init` allows distributors to run custom init code.\u001b[39;00m\n\u001b[0;32m     63\u001b[0m \u001b[38;5;66;03m# For instance, for the Windows wheel, this is used to pre-load the\u001b[39;00m\n\u001b[0;32m     64\u001b[0m \u001b[38;5;66;03m# vcomp shared library runtime for OpenMP embedded in the sklearn/.libs\u001b[39;00m\n\u001b[1;32m   (...)\u001b[0m\n\u001b[0;32m     67\u001b[0m \u001b[38;5;66;03m# later is linked to the OpenMP runtime to make it possible to introspect\u001b[39;00m\n\u001b[0;32m     68\u001b[0m \u001b[38;5;66;03m# it and importing it first would fail if the OpenMP dll cannot be found.\u001b[39;00m\n\u001b[0;32m     69\u001b[0m \u001b[38;5;28;01mfrom\u001b[39;00m\u001b[38;5;250m \u001b[39m\u001b[38;5;21;01m.\u001b[39;00m\u001b[38;5;250m \u001b[39m\u001b[38;5;28;01mimport\u001b[39;00m (  \u001b[38;5;66;03m# noqa: F401 E402\u001b[39;00m\n\u001b[0;32m     70\u001b[0m     __check_build,\n\u001b[0;32m     71\u001b[0m     _distributor_init,\n\u001b[0;32m     72\u001b[0m )\n\u001b[1;32m---> 73\u001b[0m \u001b[38;5;28;01mfrom\u001b[39;00m\u001b[38;5;250m \u001b[39m\u001b[38;5;21;01m.\u001b[39;00m\u001b[38;5;21;01mbase\u001b[39;00m\u001b[38;5;250m \u001b[39m\u001b[38;5;28;01mimport\u001b[39;00m clone  \u001b[38;5;66;03m# noqa: E402\u001b[39;00m\n\u001b[0;32m     74\u001b[0m \u001b[38;5;28;01mfrom\u001b[39;00m\u001b[38;5;250m \u001b[39m\u001b[38;5;21;01m.\u001b[39;00m\u001b[38;5;21;01mutils\u001b[39;00m\u001b[38;5;21;01m.\u001b[39;00m\u001b[38;5;21;01m_show_versions\u001b[39;00m\u001b[38;5;250m \u001b[39m\u001b[38;5;28;01mimport\u001b[39;00m show_versions  \u001b[38;5;66;03m# noqa: E402\u001b[39;00m\n\u001b[0;32m     76\u001b[0m _submodules \u001b[38;5;241m=\u001b[39m [\n\u001b[0;32m     77\u001b[0m     \u001b[38;5;124m\"\u001b[39m\u001b[38;5;124mcalibration\u001b[39m\u001b[38;5;124m\"\u001b[39m,\n\u001b[0;32m     78\u001b[0m     \u001b[38;5;124m\"\u001b[39m\u001b[38;5;124mcluster\u001b[39m\u001b[38;5;124m\"\u001b[39m,\n\u001b[1;32m   (...)\u001b[0m\n\u001b[0;32m    114\u001b[0m     \u001b[38;5;124m\"\u001b[39m\u001b[38;5;124mcompose\u001b[39m\u001b[38;5;124m\"\u001b[39m,\n\u001b[0;32m    115\u001b[0m ]\n",
      "File \u001b[1;32mc:\\Anaconda\\envs\\idm-vton\\lib\\site-packages\\sklearn\\base.py:19\u001b[0m\n\u001b[0;32m     17\u001b[0m \u001b[38;5;28;01mfrom\u001b[39;00m\u001b[38;5;250m \u001b[39m\u001b[38;5;21;01m.\u001b[39;00m\u001b[38;5;21;01m_config\u001b[39;00m\u001b[38;5;250m \u001b[39m\u001b[38;5;28;01mimport\u001b[39;00m config_context, get_config\n\u001b[0;32m     18\u001b[0m \u001b[38;5;28;01mfrom\u001b[39;00m\u001b[38;5;250m \u001b[39m\u001b[38;5;21;01m.\u001b[39;00m\u001b[38;5;21;01mexceptions\u001b[39;00m\u001b[38;5;250m \u001b[39m\u001b[38;5;28;01mimport\u001b[39;00m InconsistentVersionWarning\n\u001b[1;32m---> 19\u001b[0m \u001b[38;5;28;01mfrom\u001b[39;00m\u001b[38;5;250m \u001b[39m\u001b[38;5;21;01m.\u001b[39;00m\u001b[38;5;21;01mutils\u001b[39;00m\u001b[38;5;21;01m.\u001b[39;00m\u001b[38;5;21;01m_estimator_html_repr\u001b[39;00m\u001b[38;5;250m \u001b[39m\u001b[38;5;28;01mimport\u001b[39;00m _HTMLDocumentationLinkMixin, estimator_html_repr\n\u001b[0;32m     20\u001b[0m \u001b[38;5;28;01mfrom\u001b[39;00m\u001b[38;5;250m \u001b[39m\u001b[38;5;21;01m.\u001b[39;00m\u001b[38;5;21;01mutils\u001b[39;00m\u001b[38;5;21;01m.\u001b[39;00m\u001b[38;5;21;01m_metadata_requests\u001b[39;00m\u001b[38;5;250m \u001b[39m\u001b[38;5;28;01mimport\u001b[39;00m _MetadataRequester, _routing_enabled\n\u001b[0;32m     21\u001b[0m \u001b[38;5;28;01mfrom\u001b[39;00m\u001b[38;5;250m \u001b[39m\u001b[38;5;21;01m.\u001b[39;00m\u001b[38;5;21;01mutils\u001b[39;00m\u001b[38;5;21;01m.\u001b[39;00m\u001b[38;5;21;01m_param_validation\u001b[39;00m\u001b[38;5;250m \u001b[39m\u001b[38;5;28;01mimport\u001b[39;00m validate_parameter_constraints\n",
      "File \u001b[1;32mc:\\Anaconda\\envs\\idm-vton\\lib\\site-packages\\sklearn\\utils\\__init__.py:15\u001b[0m\n\u001b[0;32m     13\u001b[0m \u001b[38;5;28;01mfrom\u001b[39;00m\u001b[38;5;250m \u001b[39m\u001b[38;5;21;01m.\u001b[39;00m\u001b[38;5;250m \u001b[39m\u001b[38;5;28;01mimport\u001b[39;00m _joblib, metadata_routing\n\u001b[0;32m     14\u001b[0m \u001b[38;5;28;01mfrom\u001b[39;00m\u001b[38;5;250m \u001b[39m\u001b[38;5;21;01m.\u001b[39;00m\u001b[38;5;21;01m_bunch\u001b[39;00m\u001b[38;5;250m \u001b[39m\u001b[38;5;28;01mimport\u001b[39;00m Bunch\n\u001b[1;32m---> 15\u001b[0m \u001b[38;5;28;01mfrom\u001b[39;00m\u001b[38;5;250m \u001b[39m\u001b[38;5;21;01m.\u001b[39;00m\u001b[38;5;21;01m_chunking\u001b[39;00m\u001b[38;5;250m \u001b[39m\u001b[38;5;28;01mimport\u001b[39;00m gen_batches, gen_even_slices\n\u001b[0;32m     16\u001b[0m \u001b[38;5;28;01mfrom\u001b[39;00m\u001b[38;5;250m \u001b[39m\u001b[38;5;21;01m.\u001b[39;00m\u001b[38;5;21;01m_estimator_html_repr\u001b[39;00m\u001b[38;5;250m \u001b[39m\u001b[38;5;28;01mimport\u001b[39;00m estimator_html_repr\n\u001b[0;32m     18\u001b[0m \u001b[38;5;66;03m# Make _safe_indexing importable from here for backward compat as this particular\u001b[39;00m\n\u001b[0;32m     19\u001b[0m \u001b[38;5;66;03m# helper is considered semi-private and typically very useful for third-party\u001b[39;00m\n\u001b[0;32m     20\u001b[0m \u001b[38;5;66;03m# libraries that want to comply with scikit-learn's estimator API. In particular,\u001b[39;00m\n\u001b[0;32m     21\u001b[0m \u001b[38;5;66;03m# _safe_indexing was included in our public API documentation despite the leading\u001b[39;00m\n\u001b[0;32m     22\u001b[0m \u001b[38;5;66;03m# `_` in its name.\u001b[39;00m\n",
      "File \u001b[1;32mc:\\Anaconda\\envs\\idm-vton\\lib\\site-packages\\sklearn\\utils\\_chunking.py:11\u001b[0m\n\u001b[0;32m      8\u001b[0m \u001b[38;5;28;01mimport\u001b[39;00m\u001b[38;5;250m \u001b[39m\u001b[38;5;21;01mnumpy\u001b[39;00m\u001b[38;5;250m \u001b[39m\u001b[38;5;28;01mas\u001b[39;00m\u001b[38;5;250m \u001b[39m\u001b[38;5;21;01mnp\u001b[39;00m\n\u001b[0;32m     10\u001b[0m \u001b[38;5;28;01mfrom\u001b[39;00m\u001b[38;5;250m \u001b[39m\u001b[38;5;21;01m.\u001b[39;00m\u001b[38;5;21;01m.\u001b[39;00m\u001b[38;5;21;01m_config\u001b[39;00m\u001b[38;5;250m \u001b[39m\u001b[38;5;28;01mimport\u001b[39;00m get_config\n\u001b[1;32m---> 11\u001b[0m \u001b[38;5;28;01mfrom\u001b[39;00m\u001b[38;5;250m \u001b[39m\u001b[38;5;21;01m.\u001b[39;00m\u001b[38;5;21;01m_param_validation\u001b[39;00m\u001b[38;5;250m \u001b[39m\u001b[38;5;28;01mimport\u001b[39;00m Interval, validate_params\n\u001b[0;32m     14\u001b[0m \u001b[38;5;28;01mdef\u001b[39;00m\u001b[38;5;250m \u001b[39m\u001b[38;5;21mchunk_generator\u001b[39m(gen, chunksize):\n\u001b[0;32m     15\u001b[0m \u001b[38;5;250m    \u001b[39m\u001b[38;5;124;03m\"\"\"Chunk generator, ``gen`` into lists of length ``chunksize``. The last\u001b[39;00m\n\u001b[0;32m     16\u001b[0m \u001b[38;5;124;03m    chunk may have a length less than ``chunksize``.\"\"\"\u001b[39;00m\n",
      "File \u001b[1;32mc:\\Anaconda\\envs\\idm-vton\\lib\\site-packages\\sklearn\\utils\\_param_validation.py:14\u001b[0m\n\u001b[0;32m     11\u001b[0m \u001b[38;5;28;01mfrom\u001b[39;00m\u001b[38;5;250m \u001b[39m\u001b[38;5;21;01mnumbers\u001b[39;00m\u001b[38;5;250m \u001b[39m\u001b[38;5;28;01mimport\u001b[39;00m Integral, Real\n\u001b[0;32m     13\u001b[0m \u001b[38;5;28;01mimport\u001b[39;00m\u001b[38;5;250m \u001b[39m\u001b[38;5;21;01mnumpy\u001b[39;00m\u001b[38;5;250m \u001b[39m\u001b[38;5;28;01mas\u001b[39;00m\u001b[38;5;250m \u001b[39m\u001b[38;5;21;01mnp\u001b[39;00m\n\u001b[1;32m---> 14\u001b[0m \u001b[38;5;28;01mfrom\u001b[39;00m\u001b[38;5;250m \u001b[39m\u001b[38;5;21;01mscipy\u001b[39;00m\u001b[38;5;21;01m.\u001b[39;00m\u001b[38;5;21;01msparse\u001b[39;00m\u001b[38;5;250m \u001b[39m\u001b[38;5;28;01mimport\u001b[39;00m csr_matrix, issparse\n\u001b[0;32m     16\u001b[0m \u001b[38;5;28;01mfrom\u001b[39;00m\u001b[38;5;250m \u001b[39m\u001b[38;5;21;01m.\u001b[39;00m\u001b[38;5;21;01m.\u001b[39;00m\u001b[38;5;21;01m_config\u001b[39;00m\u001b[38;5;250m \u001b[39m\u001b[38;5;28;01mimport\u001b[39;00m config_context, get_config\n\u001b[0;32m     17\u001b[0m \u001b[38;5;28;01mfrom\u001b[39;00m\u001b[38;5;250m \u001b[39m\u001b[38;5;21;01m.\u001b[39;00m\u001b[38;5;21;01mvalidation\u001b[39;00m\u001b[38;5;250m \u001b[39m\u001b[38;5;28;01mimport\u001b[39;00m _is_arraylike_not_scalar\n",
      "File \u001b[1;32mc:\\Anaconda\\envs\\idm-vton\\lib\\site-packages\\scipy\\sparse\\__init__.py:300\u001b[0m\n\u001b[0;32m    294\u001b[0m \u001b[38;5;66;03m# Original code by Travis Oliphant.\u001b[39;00m\n\u001b[0;32m    295\u001b[0m \u001b[38;5;66;03m# Modified and extended by Ed Schofield, Robert Cimrman,\u001b[39;00m\n\u001b[0;32m    296\u001b[0m \u001b[38;5;66;03m# Nathan Bell, and Jake Vanderplas.\u001b[39;00m\n\u001b[0;32m    298\u001b[0m \u001b[38;5;28;01mimport\u001b[39;00m\u001b[38;5;250m \u001b[39m\u001b[38;5;21;01mwarnings\u001b[39;00m\u001b[38;5;250m \u001b[39m\u001b[38;5;28;01mas\u001b[39;00m\u001b[38;5;250m \u001b[39m\u001b[38;5;21;01m_warnings\u001b[39;00m\n\u001b[1;32m--> 300\u001b[0m \u001b[38;5;28;01mfrom\u001b[39;00m\u001b[38;5;250m \u001b[39m\u001b[38;5;21;01m.\u001b[39;00m\u001b[38;5;21;01m_base\u001b[39;00m\u001b[38;5;250m \u001b[39m\u001b[38;5;28;01mimport\u001b[39;00m \u001b[38;5;241m*\u001b[39m\n\u001b[0;32m    301\u001b[0m \u001b[38;5;28;01mfrom\u001b[39;00m\u001b[38;5;250m \u001b[39m\u001b[38;5;21;01m.\u001b[39;00m\u001b[38;5;21;01m_csr\u001b[39;00m\u001b[38;5;250m \u001b[39m\u001b[38;5;28;01mimport\u001b[39;00m \u001b[38;5;241m*\u001b[39m\n\u001b[0;32m    302\u001b[0m \u001b[38;5;28;01mfrom\u001b[39;00m\u001b[38;5;250m \u001b[39m\u001b[38;5;21;01m.\u001b[39;00m\u001b[38;5;21;01m_csc\u001b[39;00m\u001b[38;5;250m \u001b[39m\u001b[38;5;28;01mimport\u001b[39;00m \u001b[38;5;241m*\u001b[39m\n",
      "File \u001b[1;32mc:\\Anaconda\\envs\\idm-vton\\lib\\site-packages\\scipy\\sparse\\_base.py:5\u001b[0m\n\u001b[0;32m      1\u001b[0m \u001b[38;5;124;03m\"\"\"Base class for sparse matrices\"\"\"\u001b[39;00m\n\u001b[0;32m      3\u001b[0m \u001b[38;5;28;01mimport\u001b[39;00m\u001b[38;5;250m \u001b[39m\u001b[38;5;21;01mnumpy\u001b[39;00m\u001b[38;5;250m \u001b[39m\u001b[38;5;28;01mas\u001b[39;00m\u001b[38;5;250m \u001b[39m\u001b[38;5;21;01mnp\u001b[39;00m\n\u001b[1;32m----> 5\u001b[0m \u001b[38;5;28;01mfrom\u001b[39;00m\u001b[38;5;250m \u001b[39m\u001b[38;5;21;01m.\u001b[39;00m\u001b[38;5;21;01m_sputils\u001b[39;00m\u001b[38;5;250m \u001b[39m\u001b[38;5;28;01mimport\u001b[39;00m (asmatrix, check_reshape_kwargs, check_shape,\n\u001b[0;32m      6\u001b[0m                        get_sum_dtype, isdense, isscalarlike,\n\u001b[0;32m      7\u001b[0m                        matrix, validateaxis, getdtype)\n\u001b[0;32m      9\u001b[0m \u001b[38;5;28;01mfrom\u001b[39;00m\u001b[38;5;250m \u001b[39m\u001b[38;5;21;01m.\u001b[39;00m\u001b[38;5;21;01m_matrix\u001b[39;00m\u001b[38;5;250m \u001b[39m\u001b[38;5;28;01mimport\u001b[39;00m spmatrix\n\u001b[0;32m     11\u001b[0m __all__ \u001b[38;5;241m=\u001b[39m [\u001b[38;5;124m'\u001b[39m\u001b[38;5;124misspmatrix\u001b[39m\u001b[38;5;124m'\u001b[39m, \u001b[38;5;124m'\u001b[39m\u001b[38;5;124missparse\u001b[39m\u001b[38;5;124m'\u001b[39m, \u001b[38;5;124m'\u001b[39m\u001b[38;5;124msparray\u001b[39m\u001b[38;5;124m'\u001b[39m,\n\u001b[0;32m     12\u001b[0m            \u001b[38;5;124m'\u001b[39m\u001b[38;5;124mSparseWarning\u001b[39m\u001b[38;5;124m'\u001b[39m, \u001b[38;5;124m'\u001b[39m\u001b[38;5;124mSparseEfficiencyWarning\u001b[39m\u001b[38;5;124m'\u001b[39m]\n",
      "File \u001b[1;32mc:\\Anaconda\\envs\\idm-vton\\lib\\site-packages\\scipy\\sparse\\_sputils.py:10\u001b[0m\n\u001b[0;32m      8\u001b[0m \u001b[38;5;28;01mfrom\u001b[39;00m\u001b[38;5;250m \u001b[39m\u001b[38;5;21;01mmath\u001b[39;00m\u001b[38;5;250m \u001b[39m\u001b[38;5;28;01mimport\u001b[39;00m prod\n\u001b[0;32m      9\u001b[0m \u001b[38;5;28;01mimport\u001b[39;00m\u001b[38;5;250m \u001b[39m\u001b[38;5;21;01mscipy\u001b[39;00m\u001b[38;5;21;01m.\u001b[39;00m\u001b[38;5;21;01msparse\u001b[39;00m\u001b[38;5;250m \u001b[39m\u001b[38;5;28;01mas\u001b[39;00m\u001b[38;5;250m \u001b[39m\u001b[38;5;21;01msp\u001b[39;00m\n\u001b[1;32m---> 10\u001b[0m \u001b[38;5;28;01mfrom\u001b[39;00m\u001b[38;5;250m \u001b[39m\u001b[38;5;21;01mscipy\u001b[39;00m\u001b[38;5;21;01m.\u001b[39;00m\u001b[38;5;21;01m_lib\u001b[39;00m\u001b[38;5;21;01m.\u001b[39;00m\u001b[38;5;21;01m_util\u001b[39;00m\u001b[38;5;250m \u001b[39m\u001b[38;5;28;01mimport\u001b[39;00m np_long, np_ulong\n\u001b[0;32m     13\u001b[0m __all__ \u001b[38;5;241m=\u001b[39m [\u001b[38;5;124m'\u001b[39m\u001b[38;5;124mupcast\u001b[39m\u001b[38;5;124m'\u001b[39m, \u001b[38;5;124m'\u001b[39m\u001b[38;5;124mgetdtype\u001b[39m\u001b[38;5;124m'\u001b[39m, \u001b[38;5;124m'\u001b[39m\u001b[38;5;124mgetdata\u001b[39m\u001b[38;5;124m'\u001b[39m, \u001b[38;5;124m'\u001b[39m\u001b[38;5;124misscalarlike\u001b[39m\u001b[38;5;124m'\u001b[39m, \u001b[38;5;124m'\u001b[39m\u001b[38;5;124misintlike\u001b[39m\u001b[38;5;124m'\u001b[39m,\n\u001b[0;32m     14\u001b[0m            \u001b[38;5;124m'\u001b[39m\u001b[38;5;124misshape\u001b[39m\u001b[38;5;124m'\u001b[39m, \u001b[38;5;124m'\u001b[39m\u001b[38;5;124missequence\u001b[39m\u001b[38;5;124m'\u001b[39m, \u001b[38;5;124m'\u001b[39m\u001b[38;5;124misdense\u001b[39m\u001b[38;5;124m'\u001b[39m, \u001b[38;5;124m'\u001b[39m\u001b[38;5;124mismatrix\u001b[39m\u001b[38;5;124m'\u001b[39m, \u001b[38;5;124m'\u001b[39m\u001b[38;5;124mget_sum_dtype\u001b[39m\u001b[38;5;124m'\u001b[39m,\n\u001b[0;32m     15\u001b[0m            \u001b[38;5;124m'\u001b[39m\u001b[38;5;124mbroadcast_shapes\u001b[39m\u001b[38;5;124m'\u001b[39m]\n\u001b[0;32m     17\u001b[0m supported_dtypes \u001b[38;5;241m=\u001b[39m [np\u001b[38;5;241m.\u001b[39mbool_, np\u001b[38;5;241m.\u001b[39mbyte, np\u001b[38;5;241m.\u001b[39mubyte, np\u001b[38;5;241m.\u001b[39mshort, np\u001b[38;5;241m.\u001b[39mushort, np\u001b[38;5;241m.\u001b[39mintc,\n\u001b[0;32m     18\u001b[0m                     np\u001b[38;5;241m.\u001b[39muintc, np_long, np_ulong, np\u001b[38;5;241m.\u001b[39mlonglong, np\u001b[38;5;241m.\u001b[39mulonglong,\n\u001b[0;32m     19\u001b[0m                     np\u001b[38;5;241m.\u001b[39mfloat32, np\u001b[38;5;241m.\u001b[39mfloat64, np\u001b[38;5;241m.\u001b[39mlongdouble,\n\u001b[0;32m     20\u001b[0m                     np\u001b[38;5;241m.\u001b[39mcomplex64, np\u001b[38;5;241m.\u001b[39mcomplex128, np\u001b[38;5;241m.\u001b[39mclongdouble]\n",
      "File \u001b[1;32mc:\\Anaconda\\envs\\idm-vton\\lib\\site-packages\\scipy\\_lib\\_util.py:13\u001b[0m\n\u001b[0;32m     10\u001b[0m \u001b[38;5;28;01mfrom\u001b[39;00m\u001b[38;5;250m \u001b[39m\u001b[38;5;21;01mtyping\u001b[39;00m\u001b[38;5;250m \u001b[39m\u001b[38;5;28;01mimport\u001b[39;00m TypeAlias, TypeVar\n\u001b[0;32m     12\u001b[0m \u001b[38;5;28;01mimport\u001b[39;00m\u001b[38;5;250m \u001b[39m\u001b[38;5;21;01mnumpy\u001b[39;00m\u001b[38;5;250m \u001b[39m\u001b[38;5;28;01mas\u001b[39;00m\u001b[38;5;250m \u001b[39m\u001b[38;5;21;01mnp\u001b[39;00m\n\u001b[1;32m---> 13\u001b[0m \u001b[38;5;28;01mfrom\u001b[39;00m\u001b[38;5;250m \u001b[39m\u001b[38;5;21;01mscipy\u001b[39;00m\u001b[38;5;21;01m.\u001b[39;00m\u001b[38;5;21;01m_lib\u001b[39;00m\u001b[38;5;21;01m.\u001b[39;00m\u001b[38;5;21;01m_array_api\u001b[39;00m\u001b[38;5;250m \u001b[39m\u001b[38;5;28;01mimport\u001b[39;00m array_namespace, is_numpy, xp_size\n\u001b[0;32m     14\u001b[0m \u001b[38;5;28;01mfrom\u001b[39;00m\u001b[38;5;250m \u001b[39m\u001b[38;5;21;01mscipy\u001b[39;00m\u001b[38;5;21;01m.\u001b[39;00m\u001b[38;5;21;01m_lib\u001b[39;00m\u001b[38;5;21;01m.\u001b[39;00m\u001b[38;5;21;01m_docscrape\u001b[39;00m\u001b[38;5;250m \u001b[39m\u001b[38;5;28;01mimport\u001b[39;00m FunctionDoc, Parameter\n\u001b[0;32m     17\u001b[0m AxisError: \u001b[38;5;28mtype\u001b[39m[\u001b[38;5;167;01mException\u001b[39;00m]\n",
      "File \u001b[1;32mc:\\Anaconda\\envs\\idm-vton\\lib\\site-packages\\scipy\\_lib\\_array_api.py:18\u001b[0m\n\u001b[0;32m     15\u001b[0m \u001b[38;5;28;01mimport\u001b[39;00m\u001b[38;5;250m \u001b[39m\u001b[38;5;21;01mnumpy\u001b[39;00m\u001b[38;5;21;01m.\u001b[39;00m\u001b[38;5;21;01mtyping\u001b[39;00m\u001b[38;5;250m \u001b[39m\u001b[38;5;28;01mas\u001b[39;00m\u001b[38;5;250m \u001b[39m\u001b[38;5;21;01mnpt\u001b[39;00m\n\u001b[0;32m     17\u001b[0m \u001b[38;5;28;01mfrom\u001b[39;00m\u001b[38;5;250m \u001b[39m\u001b[38;5;21;01mscipy\u001b[39;00m\u001b[38;5;21;01m.\u001b[39;00m\u001b[38;5;21;01m_lib\u001b[39;00m\u001b[38;5;250m \u001b[39m\u001b[38;5;28;01mimport\u001b[39;00m array_api_compat\n\u001b[1;32m---> 18\u001b[0m \u001b[38;5;28;01mfrom\u001b[39;00m\u001b[38;5;250m \u001b[39m\u001b[38;5;21;01mscipy\u001b[39;00m\u001b[38;5;21;01m.\u001b[39;00m\u001b[38;5;21;01m_lib\u001b[39;00m\u001b[38;5;21;01m.\u001b[39;00m\u001b[38;5;21;01marray_api_compat\u001b[39;00m\u001b[38;5;250m \u001b[39m\u001b[38;5;28;01mimport\u001b[39;00m (\n\u001b[0;32m     19\u001b[0m     is_array_api_obj,\n\u001b[0;32m     20\u001b[0m     size \u001b[38;5;28;01mas\u001b[39;00m xp_size,\n\u001b[0;32m     21\u001b[0m     numpy \u001b[38;5;28;01mas\u001b[39;00m np_compat,\n\u001b[0;32m     22\u001b[0m     device \u001b[38;5;28;01mas\u001b[39;00m xp_device,\n\u001b[0;32m     23\u001b[0m     is_numpy_namespace \u001b[38;5;28;01mas\u001b[39;00m is_numpy,\n\u001b[0;32m     24\u001b[0m     is_cupy_namespace \u001b[38;5;28;01mas\u001b[39;00m is_cupy,\n\u001b[0;32m     25\u001b[0m     is_torch_namespace \u001b[38;5;28;01mas\u001b[39;00m is_torch,\n\u001b[0;32m     26\u001b[0m     is_jax_namespace \u001b[38;5;28;01mas\u001b[39;00m is_jax,\n\u001b[0;32m     27\u001b[0m     is_array_api_strict_namespace \u001b[38;5;28;01mas\u001b[39;00m is_array_api_strict\n\u001b[0;32m     28\u001b[0m )\n\u001b[0;32m     30\u001b[0m __all__ \u001b[38;5;241m=\u001b[39m [\n\u001b[0;32m     31\u001b[0m     \u001b[38;5;124m'\u001b[39m\u001b[38;5;124m_asarray\u001b[39m\u001b[38;5;124m'\u001b[39m, \u001b[38;5;124m'\u001b[39m\u001b[38;5;124marray_namespace\u001b[39m\u001b[38;5;124m'\u001b[39m, \u001b[38;5;124m'\u001b[39m\u001b[38;5;124massert_almost_equal\u001b[39m\u001b[38;5;124m'\u001b[39m, \u001b[38;5;124m'\u001b[39m\u001b[38;5;124massert_array_almost_equal\u001b[39m\u001b[38;5;124m'\u001b[39m,\n\u001b[0;32m     32\u001b[0m     \u001b[38;5;124m'\u001b[39m\u001b[38;5;124mget_xp_devices\u001b[39m\u001b[38;5;124m'\u001b[39m,\n\u001b[1;32m   (...)\u001b[0m\n\u001b[0;32m     38\u001b[0m     \u001b[38;5;124m'\u001b[39m\u001b[38;5;124mxp_take_along_axis\u001b[39m\u001b[38;5;124m'\u001b[39m, \u001b[38;5;124m'\u001b[39m\u001b[38;5;124mxp_unsupported_param_msg\u001b[39m\u001b[38;5;124m'\u001b[39m, \u001b[38;5;124m'\u001b[39m\u001b[38;5;124mxp_vector_norm\u001b[39m\u001b[38;5;124m'\u001b[39m,\n\u001b[0;32m     39\u001b[0m ]\n\u001b[0;32m     42\u001b[0m \u001b[38;5;66;03m# To enable array API and strict array-like input validation\u001b[39;00m\n",
      "File \u001b[1;32mc:\\Anaconda\\envs\\idm-vton\\lib\\site-packages\\scipy\\_lib\\array_api_compat\\numpy\\__init__.py:1\u001b[0m\n\u001b[1;32m----> 1\u001b[0m \u001b[38;5;28;01mfrom\u001b[39;00m\u001b[38;5;250m \u001b[39m\u001b[38;5;21;01mnumpy\u001b[39;00m\u001b[38;5;250m \u001b[39m\u001b[38;5;28;01mimport\u001b[39;00m \u001b[38;5;241m*\u001b[39m \u001b[38;5;66;03m# noqa: F403\u001b[39;00m\n\u001b[0;32m      3\u001b[0m \u001b[38;5;66;03m# from numpy import * doesn't overwrite these builtin names\u001b[39;00m\n\u001b[0;32m      4\u001b[0m \u001b[38;5;28;01mfrom\u001b[39;00m\u001b[38;5;250m \u001b[39m\u001b[38;5;21;01mnumpy\u001b[39;00m\u001b[38;5;250m \u001b[39m\u001b[38;5;28;01mimport\u001b[39;00m \u001b[38;5;28mabs\u001b[39m, \u001b[38;5;28mmax\u001b[39m, \u001b[38;5;28mmin\u001b[39m, \u001b[38;5;28mround\u001b[39m \u001b[38;5;66;03m# noqa: F401\u001b[39;00m\n",
      "File \u001b[1;32mc:\\Anaconda\\envs\\idm-vton\\lib\\site-packages\\numpy\\__init__.py:368\u001b[0m, in \u001b[0;36m__getattr__\u001b[1;34m(attr)\u001b[0m\n\u001b[0;32m    365\u001b[0m         \u001b[38;5;28;01mraise\u001b[39;00m \u001b[38;5;167;01mAssertionError\u001b[39;00m()\n\u001b[0;32m    366\u001b[0m \u001b[38;5;28;01mexcept\u001b[39;00m \u001b[38;5;167;01mAssertionError\u001b[39;00m:\n\u001b[0;32m    367\u001b[0m     msg \u001b[38;5;241m=\u001b[39m (\u001b[38;5;124m\"\u001b[39m\u001b[38;5;124mThe current Numpy installation (\u001b[39m\u001b[38;5;132;01m{!r}\u001b[39;00m\u001b[38;5;124m) fails to \u001b[39m\u001b[38;5;124m\"\u001b[39m\n\u001b[1;32m--> 368\u001b[0m            \u001b[38;5;124m\"\u001b[39m\u001b[38;5;124mpass simple sanity checks. This can be caused for example \u001b[39m\u001b[38;5;124m\"\u001b[39m\n\u001b[0;32m    369\u001b[0m            \u001b[38;5;124m\"\u001b[39m\u001b[38;5;124mby incorrect BLAS library being linked in, or by mixing \u001b[39m\u001b[38;5;124m\"\u001b[39m\n\u001b[0;32m    370\u001b[0m            \u001b[38;5;124m\"\u001b[39m\u001b[38;5;124mpackage managers (pip, conda, apt, ...). Search closed \u001b[39m\u001b[38;5;124m\"\u001b[39m\n\u001b[0;32m    371\u001b[0m            \u001b[38;5;124m\"\u001b[39m\u001b[38;5;124mnumpy issues for similar problems.\u001b[39m\u001b[38;5;124m\"\u001b[39m)\n\u001b[0;32m    372\u001b[0m     \u001b[38;5;28;01mraise\u001b[39;00m \u001b[38;5;167;01mRuntimeError\u001b[39;00m(msg\u001b[38;5;241m.\u001b[39mformat(\u001b[38;5;18m__file__\u001b[39m)) \u001b[38;5;28;01mfrom\u001b[39;00m\u001b[38;5;250m \u001b[39m\u001b[38;5;28;01mNone\u001b[39;00m\n",
      "File \u001b[1;32mc:\\Anaconda\\envs\\idm-vton\\lib\\site-packages\\numpy\\testing\\__init__.py:10\u001b[0m\n\u001b[0;32m      1\u001b[0m \u001b[38;5;124;03m\"\"\"Common test support for all numpy test scripts.\u001b[39;00m\n\u001b[0;32m      2\u001b[0m \n\u001b[0;32m      3\u001b[0m \u001b[38;5;124;03mThis single module should provide all the common functionality for numpy tests\u001b[39;00m\n\u001b[1;32m   (...)\u001b[0m\n\u001b[0;32m      6\u001b[0m \n\u001b[0;32m      7\u001b[0m \u001b[38;5;124;03m\"\"\"\u001b[39;00m\n\u001b[0;32m      8\u001b[0m \u001b[38;5;28;01mfrom\u001b[39;00m\u001b[38;5;250m \u001b[39m\u001b[38;5;21;01munittest\u001b[39;00m\u001b[38;5;250m \u001b[39m\u001b[38;5;28;01mimport\u001b[39;00m TestCase\n\u001b[1;32m---> 10\u001b[0m \u001b[38;5;28;01mfrom\u001b[39;00m\u001b[38;5;250m \u001b[39m\u001b[38;5;21;01m.\u001b[39;00m\u001b[38;5;250m \u001b[39m\u001b[38;5;28;01mimport\u001b[39;00m _private\n\u001b[0;32m     11\u001b[0m \u001b[38;5;28;01mfrom\u001b[39;00m\u001b[38;5;250m \u001b[39m\u001b[38;5;21;01m.\u001b[39;00m\u001b[38;5;21;01m_private\u001b[39;00m\u001b[38;5;21;01m.\u001b[39;00m\u001b[38;5;21;01mutils\u001b[39;00m\u001b[38;5;250m \u001b[39m\u001b[38;5;28;01mimport\u001b[39;00m \u001b[38;5;241m*\u001b[39m\n\u001b[0;32m     12\u001b[0m \u001b[38;5;28;01mfrom\u001b[39;00m\u001b[38;5;250m \u001b[39m\u001b[38;5;21;01m.\u001b[39;00m\u001b[38;5;21;01m_private\u001b[39;00m\u001b[38;5;21;01m.\u001b[39;00m\u001b[38;5;21;01mutils\u001b[39;00m\u001b[38;5;250m \u001b[39m\u001b[38;5;28;01mimport\u001b[39;00m (_assert_valid_refcount, _gen_alignment_data)\n",
      "File \u001b[1;32mc:\\Anaconda\\envs\\idm-vton\\lib\\site-packages\\numpy\\testing\\_private\\utils.py:23\u001b[0m\n\u001b[0;32m     20\u001b[0m \u001b[38;5;28;01mimport\u001b[39;00m\u001b[38;5;250m \u001b[39m\u001b[38;5;21;01mconcurrent\u001b[39;00m\u001b[38;5;21;01m.\u001b[39;00m\u001b[38;5;21;01mfutures\u001b[39;00m\n\u001b[0;32m     22\u001b[0m \u001b[38;5;28;01mimport\u001b[39;00m\u001b[38;5;250m \u001b[39m\u001b[38;5;21;01mnumpy\u001b[39;00m\u001b[38;5;250m \u001b[39m\u001b[38;5;28;01mas\u001b[39;00m\u001b[38;5;250m \u001b[39m\u001b[38;5;21;01mnp\u001b[39;00m\n\u001b[1;32m---> 23\u001b[0m \u001b[38;5;28;01mfrom\u001b[39;00m\u001b[38;5;250m \u001b[39m\u001b[38;5;21;01mnumpy\u001b[39;00m\u001b[38;5;21;01m.\u001b[39;00m\u001b[38;5;21;01m_core\u001b[39;00m\u001b[38;5;250m \u001b[39m\u001b[38;5;28;01mimport\u001b[39;00m (\n\u001b[0;32m     24\u001b[0m      intp, float32, empty, arange, array_repr, ndarray, isnat, array)\n\u001b[0;32m     25\u001b[0m \u001b[38;5;28;01mfrom\u001b[39;00m\u001b[38;5;250m \u001b[39m\u001b[38;5;21;01mnumpy\u001b[39;00m\u001b[38;5;250m \u001b[39m\u001b[38;5;28;01mimport\u001b[39;00m isfinite, isnan, isinf\n\u001b[0;32m     26\u001b[0m \u001b[38;5;28;01mimport\u001b[39;00m\u001b[38;5;250m \u001b[39m\u001b[38;5;21;01mnumpy\u001b[39;00m\u001b[38;5;21;01m.\u001b[39;00m\u001b[38;5;21;01mlinalg\u001b[39;00m\u001b[38;5;21;01m.\u001b[39;00m\u001b[38;5;21;01m_umath_linalg\u001b[39;00m\n",
      "\u001b[1;31mImportError\u001b[0m: DLL load failed while importing lapack_lite: The specified module could not be found."
     ]
    }
   ],
   "source": [
    "from sklearn.feature_extraction.text import TfidfVectorizer\n",
    "\n",
    "vectorizer = TfidfVectorizer() \n",
    "tfidf_matrix = vectorizer.fit_transform(corpus)\n",
    "feature_names = vectorizer.get_feature_names_out()\n",
    "tfidf_values = {}\n",
    "\n",
    "for doc_index, doc in enumerate(corpus):\n",
    "    feature_index = tfidf_matrix[doc_index, :].nonzero()[1]\n",
    "    tfidf_doc_values = zip(feature_index, [tfidf_matrix[doc_index, x] for x in feature_index])\n",
    "    tfidf_values[doc_index] = {feature_names[i]: value for i, value in tfidf_doc_values}\n",
    "\n",
    "for doc_index, values in tfidf_values.items():\n",
    "    print(f\"Document {doc_index + 1}:\")\n",
    "    for word, tfidf_value in values.items():\n",
    "        print(f\"{word}: {tfidf_value}\")\n",
    "    print(\"\\n\")"
   ]
  }
 ],
 "metadata": {
  "kernelspec": {
   "display_name": "raid_nlp",
   "language": "python",
   "name": "python3"
  },
  "language_info": {
   "codemirror_mode": {
    "name": "ipython",
    "version": 3
   },
   "file_extension": ".py",
   "mimetype": "text/x-python",
   "name": "python",
   "nbconvert_exporter": "python",
   "pygments_lexer": "ipython3",
   "version": "3.13.7"
  }
 },
 "nbformat": 4,
 "nbformat_minor": 5
}
